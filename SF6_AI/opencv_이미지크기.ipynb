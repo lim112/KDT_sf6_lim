{
 "cells": [
  {
   "cell_type": "code",
   "execution_count": 12,
   "id": "c854ae40-ffb1-4df0-9dfe-52e696e0215a",
   "metadata": {},
   "outputs": [
    {
     "name": "stdout",
     "output_type": "stream",
     "text": [
      "이미지 크기 : (853, 1280, 3)\n",
      "853 1280 3\n",
      "853 1280\n"
     ]
    }
   ],
   "source": [
    "import cv2\n",
    "\n",
    "img = cv2.imread('./source/dog1.jpg', cv2.IMREAD_COLOR)\n",
    "# img = cv2.imread('./source/dog1.jpg', cv2.IMREAD_GRAYSCALE)\n",
    "print('이미지 크기 :', img.shape) \n",
    "# 이미지 크기 : (853, 1280, 3)\n",
    "                # 세로 가로 채널(rgb 여부, 칼라 : 3, 흑백 : 1) \n",
    "# 칼라\n",
    "# height, width, channel = img.shape[:3]\n",
    "# print(height, width, channel)\n",
    "\n",
    "# 흑백\n",
    "height, width = img.shape[:2]\n",
    "print(height, width)"
   ]
  },
  {
   "cell_type": "code",
   "execution_count": null,
   "id": "033ad59e-b9c8-4097-8d67-08f60a26caa5",
   "metadata": {},
   "outputs": [],
   "source": []
  }
 ],
 "metadata": {
  "kernelspec": {
   "display_name": "Python 3 (ipykernel)",
   "language": "python",
   "name": "python3"
  },
  "language_info": {
   "codemirror_mode": {
    "name": "ipython",
    "version": 3
   },
   "file_extension": ".py",
   "mimetype": "text/x-python",
   "name": "python",
   "nbconvert_exporter": "python",
   "pygments_lexer": "ipython3",
   "version": "3.12.4"
  }
 },
 "nbformat": 4,
 "nbformat_minor": 5
}
