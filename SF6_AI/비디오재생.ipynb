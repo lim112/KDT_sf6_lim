{
 "cells": [
  {
   "cell_type": "code",
   "execution_count": 4,
   "id": "65d5901f-a6e1-4cbe-a704-9d9717d45794",
   "metadata": {},
   "outputs": [
    {
     "name": "stdout",
     "output_type": "stream",
     "text": [
      "Requirement already satisfied: keyboard in c:\\users\\vvv\\anaconda3\\lib\\site-packages (0.13.5)\n",
      "종료\n",
      "종료\n",
      "종료\n",
      "종료\n",
      "종료\n"
     ]
    }
   ],
   "source": [
    "import cv2\n",
    "!pip install keyboard\n",
    "import keyboard\n",
    "\n",
    "# 특정 키를 눌렀을 때의 이벤트를 감지합니다.\n",
    "# keyboard.add_hotkey('ctrl+shift+a', lambda: print(\"Ctrl + Shift + A가 눌렸습니다!\"))\n",
    "import keyboard\n",
    "\n",
    "# 'q'를 누르면 종료하는 콜백 함수 추가\n",
    "keyboard.add_hotkey('q', lambda: print(\"종료\"))\n",
    "\n",
    "# 'q' 키를 누르면 프로그램을 종료합니다.\n",
    "# keyboard.add_hotkey('q', lambda: quit())\n",
    "\n",
    "# 영상 가져와서 변수에 저장\n",
    "capture = cv2.VideoCapture(\"./source/bird.mp4\")\n",
    "\n",
    "# 영상 재생\n",
    "while capture.isOpened():\n",
    "\n",
    "    # ret : 프레임을 섯ㅇ공적으로 읽었는지 여부\n",
    "    ret,frame = capture.read()\n",
    "    cv2.imshow('bird',frame)\n",
    "\n",
    "    # keyboard.add_hotkey('q', lambda: quit())\n",
    "    # if keyboard.add_hotkey('q'):\n",
    "    #     break\n",
    "    \n",
    "    # 25는 잠시대기 and 메모리 주소가 'q' 키이면 종료\n",
    "    if cv2.waitKey(25) & 0xFF == ord('q'):\n",
    "        break\n",
    "    \n",
    "    # if keyboard.is_pressed('q'): \n",
    "    #     break\n",
    "        \n",
    "# 캡쳐 객체 해제 - 창닫음\n",
    "capture.release()\n",
    "cv2.destroyAllWindows()\n",
    "    "
   ]
  },
  {
   "cell_type": "code",
   "execution_count": null,
   "id": "36380584-fd04-435f-8fa6-9e29441429de",
   "metadata": {},
   "outputs": [],
   "source": []
  }
 ],
 "metadata": {
  "kernelspec": {
   "display_name": "Python 3 (ipykernel)",
   "language": "python",
   "name": "python3"
  },
  "language_info": {
   "codemirror_mode": {
    "name": "ipython",
    "version": 3
   },
   "file_extension": ".py",
   "mimetype": "text/x-python",
   "name": "python",
   "nbconvert_exporter": "python",
   "pygments_lexer": "ipython3",
   "version": "3.12.4"
  }
 },
 "nbformat": 4,
 "nbformat_minor": 5
}
