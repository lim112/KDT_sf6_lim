{
 "cells": [
  {
   "cell_type": "code",
   "execution_count": 2,
   "id": "7772c4fe-34df-46f1-a148-523786671bbc",
   "metadata": {},
   "outputs": [
    {
     "name": "stdout",
     "output_type": "stream",
     "text": [
      "Requirement already satisfied: opencv-python in c:\\users\\vvv\\anaconda3\\lib\\site-packages (4.10.0.84)\n",
      "Requirement already satisfied: numpy>=1.21.2 in c:\\users\\vvv\\anaconda3\\lib\\site-packages (from opencv-python) (1.26.4)\n"
     ]
    }
   ],
   "source": [
    "!pip install opencv-python  "
   ]
  },
  {
   "cell_type": "markdown",
   "id": "7ffeed98-767e-437e-9028-997260054ed3",
   "metadata": {},
   "source": [
    "### 이미지 파일 읽어오기"
   ]
  },
  {
   "cell_type": "code",
   "execution_count": 4,
   "id": "7d27b1e5-0702-4fff-95e1-9fb08c868ccd",
   "metadata": {},
   "outputs": [],
   "source": [
    "import cv2 # opencv 임포트\n",
    "# 파일 읽기 - imread(파일, 옵션) 옵션 : 칼라 여부 등\n",
    "# IMREAD_COLOR - 이미지를 컬러로 읽기\n",
    "# IMREAD_GRAYSCALE - 이미지를 흑백으로 읽음\n",
    "# IMREAD_UNCHANGED - 이미지를 컬러로 읽음(투명한 부분을 읽기)\n",
    "\n",
    "# # 창 띄우기\n",
    "# imshow('창제목' 파일)\n",
    "\n",
    "# # 창 닫기\n",
    "# destroyALLWingow()"
   ]
  },
  {
   "cell_type": "code",
   "execution_count": 8,
   "id": "fc52f52a-bca9-4e15-adef-a05fa7df7488",
   "metadata": {},
   "outputs": [
    {
     "ename": "error",
     "evalue": "OpenCV(4.10.0) :-1: error: (-5:Bad argument) in function 'imwrite'\n> Overload resolution failed:\n>  - imwrite() missing required argument 'img' (pos 2)\n>  - imwrite() missing required argument 'img' (pos 2)\n",
     "output_type": "error",
     "traceback": [
      "\u001b[1;31m---------------------------------------------------------------------------\u001b[0m",
      "\u001b[1;31merror\u001b[0m                                     Traceback (most recent call last)",
      "Cell \u001b[1;32mIn[8], line 14\u001b[0m\n\u001b[0;32m     11\u001b[0m     \u001b[38;5;28mprint\u001b[39m(key)\n\u001b[0;32m     13\u001b[0m \u001b[38;5;66;03m# output 폴더에 저장하기 imwrite(파일 경로에 파일\u001b[39;00m\n\u001b[1;32m---> 14\u001b[0m \u001b[43mcv2\u001b[49m\u001b[38;5;241;43m.\u001b[39;49m\u001b[43mimwrite\u001b[49m\u001b[43m(\u001b[49m\u001b[38;5;124;43m'\u001b[39;49m\u001b[38;5;124;43m.output/new.don2,img\u001b[39;49m\u001b[38;5;124;43m'\u001b[39;49m\u001b[43m)\u001b[49m\n\u001b[0;32m     15\u001b[0m \u001b[38;5;66;03m# cv2.waitKey(1000)\u001b[39;00m\n\u001b[0;32m     16\u001b[0m \u001b[38;5;66;03m# 창 닫기\u001b[39;00m\n\u001b[0;32m     17\u001b[0m cv2\u001b[38;5;241m.\u001b[39mdestroyAllWindows()\n",
      "\u001b[1;31merror\u001b[0m: OpenCV(4.10.0) :-1: error: (-5:Bad argument) in function 'imwrite'\n> Overload resolution failed:\n>  - imwrite() missing required argument 'img' (pos 2)\n>  - imwrite() missing required argument 'img' (pos 2)\n"
     ]
    }
   ],
   "source": [
    "# 파일 일기\n",
    "img = cv2.imread('dog1.jpg' , cv2.IMREAD_COLOR)\n",
    "\n",
    "# 창 띄우기\n",
    "cv2.imshow('강아지', img)\n",
    "\n",
    "# 창 대기(1000-1초 , 0- 무한대기 어떤 키를 눌러도 창닫기\n",
    "# key() - 'q'인경우 창 닫기\n",
    "key = cv2.waitKey(0)\n",
    "if key  == ord('q'):\n",
    "    print(key)\n",
    "\n",
    "# output 폴더에 저장하기 imwrite(파일 경로에 파일\n",
    "cv2.imwrite('.output/new.don2,img')\n",
    "# cv2.waitKey(1000)\n",
    "# 창 닫기\n",
    "cv2.destroyAllWindows()"
   ]
  },
  {
   "cell_type": "code",
   "execution_count": 66,
   "id": "5acd60c0-2bd0-4746-9f47-5d375c8ab0a1",
   "metadata": {},
   "outputs": [
    {
     "ename": "NameError",
     "evalue": "name 'cv2_imread' is not defined",
     "output_type": "error",
     "traceback": [
      "\u001b[1;31m---------------------------------------------------------------------------\u001b[0m",
      "\u001b[1;31mNameError\u001b[0m                                 Traceback (most recent call last)",
      "Cell \u001b[1;32mIn[66], line 3\u001b[0m\n\u001b[0;32m      1\u001b[0m \u001b[38;5;66;03m# 페이지 생성 변경(팡리, 애상 옵션 변경)\\'\u001b[39;00m\n\u001b[0;32m      2\u001b[0m \u001b[38;5;66;03m# cvcolof(파일, 석사으 홉션\u001b[39;00m\n\u001b[1;32m----> 3\u001b[0m dog \u001b[38;5;241m=\u001b[39m \u001b[43mcv2_imread\u001b[49m((\u001b[38;5;124m'\u001b[39m\u001b[38;5;124msource.dog2\u001b[39m\u001b[38;5;124m'\u001b[39m), cv2\u001b[38;5;241m.\u001b[39mIMRAD_COLOR)\n\u001b[0;32m      4\u001b[0m dog_gray \u001b[38;5;241m=\u001b[39m cv2\u001b[38;5;241m.\u001b[39mcvtcolor(dog, dv2\u001b[38;5;241m.\u001b[39mCOLOR_BGR2GRAY)\n\u001b[0;32m      5\u001b[0m cv2\u001b[38;5;241m.\u001b[39mimshow(\u001b[38;5;124m'\u001b[39m\u001b[38;5;124mdog\u001b[39m\u001b[38;5;124m'\u001b[39m,dog_gray)\n",
      "\u001b[1;31mNameError\u001b[0m: name 'cv2_imread' is not defined"
     ]
    }
   ],
   "source": [
    "# 페이지 생성 변경(팡리, 애상 옵션 변경)\\'\n",
    "# cvcolof(파일, 석사으 홉션\n",
    "dog = cv2_imread(('source.dog2'), cv2.IMRAD_COLOR)\n",
    "dog_gray = cv2.cvtcolor(dog, dv2.COLOR_BGR2GRAY)\n",
    "cv2.imshow('dog',dog_gray)"
   ]
  },
  {
   "cell_type": "code",
   "execution_count": null,
   "id": "d377fcae-860b-4856-b2f0-9c9f8cd02260",
   "metadata": {},
   "outputs": [],
   "source": []
  },
  {
   "cell_type": "code",
   "execution_count": 25,
   "id": "a98fc5d2-6ac8-4c2b-b488-394d7c13bfcb",
   "metadata": {},
   "outputs": [],
   "source": [
    "# 제목 한국어\n",
    "import cv2\n",
    "import ctypes\n",
    "\n",
    "# 파일 읽기\n",
    "img = cv2.imread('dog2.jpg', cv2.IMREAD_GRAYSCALE)\n",
    "\n",
    "# 창 띄우기\n",
    "cv2.imshow('temp_window', img)\n",
    "\n",
    "# 한글 창 제목 설정\n",
    "ctypes.windll.user32.SetWindowTextW(ctypes.windll.user32.FindWindowW(None, 'temp_window'), '강아지')\n",
    "\n",
    "# 창 대기\n",
    "cv2.waitKey(10000)\n",
    "\n",
    "# 창 닫기\n",
    "cv2.destroyAllWindows()\n"
   ]
  },
  {
   "cell_type": "code",
   "execution_count": 23,
   "id": "c836b6bc-8410-4bc9-a7da-0e254e69c93d",
   "metadata": {},
   "outputs": [],
   "source": [
    "import cv2\n",
    "from tkinter import *\n",
    "from PIL import Image, ImageTk\n",
    "\n",
    "# 이미지 읽기\n",
    "img = cv2.imread('dog1.jpg')\n",
    "\n",
    "# OpenCV의 BGR 이미지를 RGB로 변환\n",
    "img = cv2.cvtColor(img, cv2.COLOR_BGR2RGB)\n",
    "\n",
    "# Tkinter 창 생성\n",
    "root = Tk()\n",
    "root.title(\"강아지\")  # 한글 제목 설정\n",
    "\n",
    "# OpenCV 이미지를 Tkinter 이미지로 변환\n",
    "img_pil = Image.fromarray(img)\n",
    "img_tk = ImageTk.PhotoImage(image=img_pil)\n",
    "\n",
    "# 라벨에 이미지 표시\n",
    "label = Label(root, image=img_tk)\n",
    "label.pack()\n",
    "\n",
    "# 창 실행\n",
    "root.mainloop()\n"
   ]
  },
  {
   "cell_type": "code",
   "execution_count": null,
   "id": "f88999cc-5eaf-488b-b9e9-d6321a7438b9",
   "metadata": {},
   "outputs": [],
   "source": []
  }
 ],
 "metadata": {
  "kernelspec": {
   "display_name": "Python 3 (ipykernel)",
   "language": "python",
   "name": "python3"
  },
  "language_info": {
   "codemirror_mode": {
    "name": "ipython",
    "version": 3
   },
   "file_extension": ".py",
   "mimetype": "text/x-python",
   "name": "python",
   "nbconvert_exporter": "python",
   "pygments_lexer": "ipython3",
   "version": "3.12.4"
  }
 },
 "nbformat": 4,
 "nbformat_minor": 5
}
