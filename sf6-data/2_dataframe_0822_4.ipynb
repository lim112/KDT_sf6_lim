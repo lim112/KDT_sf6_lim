{
 "cells": [
  {
   "cell_type": "markdown",
   "id": "e87ef47e-4506-4a2b-82c6-d01389e21f79",
   "metadata": {},
   "source": [
    "##### pandas - DataFrame 클래스 : 행(row)과 열(column)로 이뤄진 2차원 리스트이다"
   ]
  },
  {
   "cell_type": "code",
   "execution_count": 30,
   "id": "696de7a8-4fa5-488e-bda2-088531f38891",
   "metadata": {},
   "outputs": [
    {
     "data": {
      "text/html": [
       "<div>\n",
       "<style scoped>\n",
       "    .dataframe tbody tr th:only-of-type {\n",
       "        vertical-align: middle;\n",
       "    }\n",
       "\n",
       "    .dataframe tbody tr th {\n",
       "        vertical-align: top;\n",
       "    }\n",
       "\n",
       "    .dataframe thead th {\n",
       "        text-align: right;\n",
       "    }\n",
       "</style>\n",
       "<table border=\"1\" class=\"dataframe\">\n",
       "  <thead>\n",
       "    <tr style=\"text-align: right;\">\n",
       "      <th></th>\n",
       "      <th>영희</th>\n",
       "      <th>철수</th>\n",
       "    </tr>\n",
       "  </thead>\n",
       "  <tbody>\n",
       "    <tr>\n",
       "      <th>2018</th>\n",
       "      <td>143</td>\n",
       "      <td>145</td>\n",
       "    </tr>\n",
       "    <tr>\n",
       "      <th>2019</th>\n",
       "      <td>150</td>\n",
       "      <td>165</td>\n",
       "    </tr>\n",
       "    <tr>\n",
       "      <th>2020</th>\n",
       "      <td>157</td>\n",
       "      <td>175</td>\n",
       "    </tr>\n",
       "    <tr>\n",
       "      <th>2021</th>\n",
       "      <td>160</td>\n",
       "      <td>180</td>\n",
       "    </tr>\n",
       "  </tbody>\n",
       "</table>\n",
       "</div>"
      ],
      "text/plain": [
       "       영희   철수\n",
       "2018  143  145\n",
       "2019  150  165\n",
       "2020  157  175\n",
       "2021  160  180"
      ]
     },
     "execution_count": 30,
     "metadata": {},
     "output_type": "execute_result"
    }
   ],
   "source": [
    "#1. 시리즈 결합해서 데이터 프레임 만들기\n",
    "import pandas as pd\n",
    "index = ['2018','2019','2020','2021']\n",
    "younghee = pd.Series([143,150,157,160], index = index)\n",
    "cheolsu = pd.Series([145,165,175,180], index = index)\n",
    "growth = pd.DataFrame({\n",
    "    '영희' : younghee,\n",
    "    '철수' : cheolsu\n",
    "})\n",
    "growth\n"
   ]
  },
  {
   "cell_type": "code",
   "execution_count": 58,
   "id": "77a6c3eb-92ad-4a8a-b7ae-3b74ed5bf5d3",
   "metadata": {},
   "outputs": [
    {
     "name": "stdout",
     "output_type": "stream",
     "text": [
      "       영희   철수\n",
      "2018  143  145\n",
      "2019  150  165\n",
      "2020  157  175\n",
      "2021  160  180\n",
      "       영희   철수\n",
      "2020  157  175\n",
      "2021  160  180\n",
      "       영희   철수\n",
      "2020  157  175\n",
      "2021  160  180\n",
      "영희    157\n",
      "철수    175\n",
      "Name: 2020, dtype: int64\n",
      "영희    157\n",
      "철수    175\n",
      "Name: 2020, dtype: int64\n"
     ]
    }
   ],
   "source": [
    "# 일반적인 데이터 프레임 만들기\n",
    "index = ['2018','2019','2020','2021']\n",
    "data = {\n",
    "    '영희' : [143,150,157,160],\n",
    "    '철수' : [145, 165,175,180]\n",
    "}\n",
    "growth = pd.DataFrame(data, index = index)\n",
    "growth\n",
    "\n",
    "# print(growth.columns)\n",
    "# print(growth.values)\n",
    "\n",
    "# 열 선택 꺽쇠 괄호 1\n",
    "# print(growth['철수'])\n",
    "# # print(growth['영희','철수'])\n",
    "\n",
    "# # 열 이름 출력 [[]] 꺽쇠 괄호 2개\n",
    "# print(growth[['철수']])\n",
    "print(growth[['영희','철수']])\n",
    "# print(growth[['영희']])\n",
    "\n",
    "# loc[행(문자)] , iloc[인덱스(숫자)]\n",
    "print(growth.loc[['2020', '2021']])\n",
    "print(growth.iloc[[2, 3]])\n",
    "\n",
    "print(growth.loc['2020'])\n",
    "print(growth.iloc[2])\n"
   ]
  },
  {
   "cell_type": "code",
   "execution_count": 42,
   "id": "fe9b1447-d145-400e-a3d0-3a40a1c09a36",
   "metadata": {},
   "outputs": [
    {
     "name": "stdout",
     "output_type": "stream",
     "text": [
      "2018    145\n",
      "2019    165\n",
      "2020    175\n",
      "2021    180\n",
      "Name: 철수, dtype: int64\n",
      "          영희   철수\n",
      "2018  143150  145\n",
      "2019     157  165\n",
      "2020     160  175\n",
      "2021      14  180\n",
      "       철수\n",
      "2018  145\n",
      "2019  165\n",
      "2020  175\n",
      "2021  180\n"
     ]
    }
   ],
   "source": [
    "import pandas as pd\n",
    "\n",
    "# 인덱스 정의\n",
    "index = ['2018', '2019', '2020', '2021']\n",
    "\n",
    "# 데이터 정의\n",
    "data = {\n",
    "    '영희': [143150, 157, 160, 14],\n",
    "    '철수': [145, 165, 175, 180]\n",
    "}\n",
    "\n",
    "# 데이터 프레임 생성\n",
    "growth = pd.DataFrame(data, index=index)\n",
    "\n",
    "# 열 선택: 철수의 데이터를 선택\n",
    "print(growth['철수'])\n",
    "\n",
    "# 열 선택: 영희와 철수의 데이터를 선택 (중첩된 대괄호 사용)\n",
    "print(growth[['영희', '철수']])\n",
    "\n",
    "# 열 이름을 사용하여 선택\n",
    "print(growth[['철수']])\n"
   ]
  },
  {
   "cell_type": "code",
   "execution_count": 108,
   "id": "f800ab30-5a86-448f-a905-a4699c3a452c",
   "metadata": {},
   "outputs": [
    {
     "name": "stdout",
     "output_type": "stream",
     "text": [
      "       영희   철수\n",
      "2018  143  145\n",
      "2019  150  165\n",
      "2020  157  175\n",
      "2021  160  180\n",
      "175\n",
      "175\n",
      "       영희   철수\n",
      "2018  143  145\n",
      "2019  150  165\n",
      "2021  160  180\n",
      "2022  170  185\n"
     ]
    }
   ],
   "source": [
    "# 일반적인 데이터 프레임 만들기\n",
    "index = ['2018','2019','2020','2021']\n",
    "data = {\n",
    "    '영희' : [143,150,157,160],\n",
    "    '철수' : [145,165,175,180]\n",
    "}\n",
    "growth = pd.DataFrame(data, index = index)\n",
    "print(growth)\n",
    "\n",
    "# 특정 요소 한개 선택\n",
    "# loc[행(문자), 열(문자)], # iloc[행(숫자), 열(숫자)]\n",
    "print(growth.loc['2020', '철수'])\n",
    "print(growth.iloc[2,1])\n",
    "\n",
    "# 새로운 행 추가\n",
    "new_index = '2022'\n",
    "growth.loc[new_index] = [170, 185]  # 새로운 연도 데이터 추가\n",
    "\n",
    "# 행 삭제 - 2020년\n",
    "# 복사 - 원본 유지 : 깊은 복사 - copy()\n",
    "growth2 = growth.copy()\n",
    "growth2 = growth2.drop('2020') # 행삭제\n",
    "print(growth2)"
   ]
  },
  {
   "cell_type": "code",
   "execution_count": 94,
   "id": "4f82df0f-4d5f-45ab-a321-9776b9e68730",
   "metadata": {},
   "outputs": [
    {
     "name": "stdout",
     "output_type": "stream",
     "text": [
      "{'국어': [90, 80, 70, 50], '수학': [80, 75, 95, 30], '영어': [85, 95, 100, 20]}\n"
     ]
    },
    {
     "data": {
      "text/html": [
       "<div>\n",
       "<style scoped>\n",
       "    .dataframe tbody tr th:only-of-type {\n",
       "        vertical-align: middle;\n",
       "    }\n",
       "\n",
       "    .dataframe tbody tr th {\n",
       "        vertical-align: top;\n",
       "    }\n",
       "\n",
       "    .dataframe thead th {\n",
       "        text-align: right;\n",
       "    }\n",
       "</style>\n",
       "<table border=\"1\" class=\"dataframe\">\n",
       "  <thead>\n",
       "    <tr style=\"text-align: right;\">\n",
       "      <th></th>\n",
       "      <th>국어</th>\n",
       "      <th>수학</th>\n",
       "      <th>영어</th>\n",
       "    </tr>\n",
       "  </thead>\n",
       "  <tbody>\n",
       "    <tr>\n",
       "      <th>재천</th>\n",
       "      <td>90</td>\n",
       "      <td>80</td>\n",
       "      <td>85</td>\n",
       "    </tr>\n",
       "    <tr>\n",
       "      <th>선영</th>\n",
       "      <td>80</td>\n",
       "      <td>75</td>\n",
       "      <td>95</td>\n",
       "    </tr>\n",
       "    <tr>\n",
       "      <th>일성</th>\n",
       "      <td>70</td>\n",
       "      <td>95</td>\n",
       "      <td>100</td>\n",
       "    </tr>\n",
       "    <tr>\n",
       "      <th>현수</th>\n",
       "      <td>50</td>\n",
       "      <td>30</td>\n",
       "      <td>20</td>\n",
       "    </tr>\n",
       "  </tbody>\n",
       "</table>\n",
       "</div>"
      ],
      "text/plain": [
       "    국어  수학   영어\n",
       "재천  90  80   85\n",
       "선영  80  75   95\n",
       "일성  70  95  100\n",
       "현수  50  30   20"
      ]
     },
     "execution_count": 94,
     "metadata": {},
     "output_type": "execute_result"
    }
   ],
   "source": [
    "# 실습 2 데이터 프레임\n",
    "user = ['재천', '선영', '일성']\n",
    "data = {\n",
    "    '국어' : [90,80,70],\n",
    "    '수학' : [80,75,95],\n",
    "    '영어' : [85,95,100]\n",
    "}\n",
    "grade = pd.DataFrame(data, index = user)\n",
    "grade\n",
    "\n",
    "# 행 추가\n",
    "user.append('현수')\n",
    "# data = {\n",
    "#     '국어' : [90,80,70,50],\n",
    "#     '수학' : [80,75,95,30],\n",
    "#     '영어' : [85,95,100,40]\n",
    "# }\n",
    "\n",
    "data['국어'].append(50)\n",
    "data['수학'].append(30)\n",
    "data['영어'].append(20)\n",
    "print(data)\n",
    "grade = pd.DataFrame(data, index = user)\n",
    "grade"
   ]
  },
  {
   "cell_type": "code",
   "execution_count": 110,
   "id": "defd29b0-7783-4ad5-a038-049897719805",
   "metadata": {},
   "outputs": [],
   "source": [
    "# csv파일 만들기\n",
    "user = ['재천', '선영', '일성']\n",
    "data = {\n",
    "    '국어' : [90,80,70],\n",
    "    '수학' : [80,75,95],\n",
    "    '영어' : [85,95,100]\n",
    "}\n",
    "grade = pd.DataFrame(data, index = user)\n",
    "grade.to_csv('./datas/grade.csv')\n",
    "\n"
   ]
  },
  {
   "cell_type": "code",
   "execution_count": 114,
   "id": "29744c49-72b2-45d0-982f-b5becbadcbec",
   "metadata": {},
   "outputs": [
    {
     "name": "stdout",
     "output_type": "stream",
     "text": [
      "  Unnamed: 0  국어  수학   영어\n",
      "0         재천  90  80   85\n",
      "1         선영  80  75   95\n",
      "2         일성  70  95  100\n"
     ]
    }
   ],
   "source": [
    "# csv파일 읽기 read_csv(경로)\n",
    "import pandas as pd\n",
    "grade2 = pd.read_csv('./datas/grade.csv')\n",
    "print(grade2)\n"
   ]
  },
  {
   "cell_type": "code",
   "execution_count": null,
   "id": "f48c38da-f5cb-464c-9a56-fa73e9974b4b",
   "metadata": {},
   "outputs": [],
   "source": []
  }
 ],
 "metadata": {
  "kernelspec": {
   "display_name": "Python 3 (ipykernel)",
   "language": "python",
   "name": "python3"
  },
  "language_info": {
   "codemirror_mode": {
    "name": "ipython",
    "version": 3
   },
   "file_extension": ".py",
   "mimetype": "text/x-python",
   "name": "python",
   "nbconvert_exporter": "python",
   "pygments_lexer": "ipython3",
   "version": "3.12.4"
  }
 },
 "nbformat": 4,
 "nbformat_minor": 5
}
