{
 "cells": [
  {
   "cell_type": "markdown",
   "id": "6a5b54b4-10f6-4b0b-9a82-0004e0c02d31",
   "metadata": {},
   "source": [
    "#### 한국 프로야구 성적표 작성하기"
   ]
  },
  {
   "cell_type": "code",
   "execution_count": 4,
   "id": "7f841fea-59cc-4b69-a91a-affebc12a563",
   "metadata": {},
   "outputs": [
    {
     "name": "stdout",
     "output_type": "stream",
     "text": [
      "['KIA', '삼성', 'LG', '두산', 'KT', '한화', 'SSG', '롯데', 'NC', '키움']\n",
      "['73', '68', '64', '64', '60', '57', '58', '52', '52', '53']\n",
      "['48', '54', '56', '60', '62', '61', '64', '62', '65', '69']\n",
      "['2', '2', '2', '2', '2', '2', '1', '3', '2', '0']\n",
      "['0.603', '0.557', '0.533', '0.516', '0.492', '0.483', '0.475', '0.456', '0.444', '0.434']\n"
     ]
    }
   ],
   "source": [
    "import requests\n",
    "from bs4 import BeautifulSoup\n",
    "import numpy as np\n",
    "url = 'https://www.koreabaseball.com/Record/TeamRank/TeamRankDaily.aspx'\n",
    "# 요청과 응답\n",
    "response = requests.get(url)\n",
    "# print(response)\n",
    "# print(response.text)\n",
    "\n",
    "# html 파싱 - 기계어로 바꾸는 작업\n",
    "soup = BeautifulSoup(response.text, 'html.parser')\n",
    "# print(soup)\n",
    "first_table = soup.select_one('table.tData > tbody')\n",
    "# print(first_table)\n",
    "팀 = first_table.select('tr > td:nth-of-type(2)')\n",
    "# # print(팀)             # 모든 두번째 td찾기\n",
    "team = [i.text for i in 팀]     \n",
    "\n",
    "승 = first_table.select('tr > td:nth-of-type(4)')\n",
    "win = [i.text for i in 승]\n",
    "\n",
    "패 = first_table.select('tr > td:nth-of-type(5)')\n",
    "lose = [i.text for i in 패]\n",
    "# print(패)\n",
    "무 = first_table.select('tr > td:nth-of-type(6)')\n",
    "draw = [i.text for i in 무]\n",
    "# print(무)\n",
    "승률 = first_table.select('tr > td:nth-of-type(7)')\n",
    "win_rate = [i.text for i in 승률]\n",
    "print(team)\n",
    "print(win)\n",
    "print(lose)\n",
    "print(draw)\n",
    "print(win_rate)\n"
   ]
  },
  {
   "cell_type": "code",
   "execution_count": 74,
   "id": "a4015738-7462-47ba-990d-79419cb17aa6",
   "metadata": {},
   "outputs": [
    {
     "name": "stdout",
     "output_type": "stream",
     "text": [
      "====2024한국 프로야구 성적표====\n",
      "순위\t팀\t승\t패\t무\t승률\n",
      "1\tKIA\t72\t48\t2\t0.600\n",
      "2\t삼성\t67\t54\t2\t0.554\n",
      "3\tLG\t64\t55\t2\t0.538\n",
      "4\t두산\t63\t60\t2\t0.512\n",
      "5\tKT\t59\t62\t2\t0.488\n",
      "6\tSSG\t58\t63\t1\t0.479\n",
      "7\t한화\t56\t61\t2\t0.479\n",
      "8\t롯데\t52\t61\t3\t0.460\n",
      "9\tNC\t52\t64\t2\t0.448\n",
      "10\t키움\t53\t68\t0\t0.438\n",
      "\n"
     ]
    }
   ],
   "source": [
    "import numpy as np\n",
    "\n",
    "순위 = 1 + np.arange(10)\n",
    "팀 = np.array(team)\n",
    "승 = np.array(win)\n",
    "패 = np.array(lose)\n",
    "무 = np.array(draw)\n",
    "승률 = np.array(win_rate)\n",
    "with open('datas/2024kbo.txt','w')as f:\n",
    "    f.write('====2024한국 프로야구 성적표====\\n')\n",
    "    header = '순위\\t팀\\t승\\t패\\t무\\t승률\\n'\n",
    "    f.write(header)\n",
    "    for i in range(len(순위)):\n",
    "        txt = f'{순위[i]}\\t{팀[i]}\\t{승[i]}\\t{패[i]}\\t{무[i]}\\t{승률[i]}\\n'\n",
    "        f.write(txt)\n",
    "with open('./datas/2024kbo.txt','r') as f:\n",
    "    data = f.read()\n",
    "    print(data)"
   ]
  },
  {
   "cell_type": "code",
   "execution_count": 60,
   "id": "3e0062e9-aea3-414b-8e97-26fe205e63d5",
   "metadata": {},
   "outputs": [
    {
     "name": "stdout",
     "output_type": "stream",
     "text": [
      "=============== 2024 한국 프로야구 성적표 =============\n",
      "순위\t팀\t승\t패\t무\t승률\n",
      "1\tKIA\t72\t48\t2\t0.600\n",
      "2\t삼성\t67\t54\t2\t0.554\n",
      "3\tLG\t64\t55\t2\t0.538\n",
      "4\t두산\t63\t60\t2\t0.512\n",
      "5\tKT\t59\t62\t2\t0.488\n",
      "6\tSSG\t58\t63\t1\t0.479\n",
      "7\t한화\t56\t61\t2\t0.479\n",
      "8\t롯데\t52\t61\t3\t0.460\n",
      "9\tNC\t52\t64\t2\t0.448\n",
      "10\t키움\t53\t68\t0\t0.438\n",
      "\n"
     ]
    }
   ],
   "source": [
    "# 리더님 \n",
    "import numpy as np\n",
    "순위 = 1 + np.arange(10)  # 1 ~ 10\n",
    "팀 = np.array(['KIA', '삼성', 'LG', '두산', 'KT', 'SSG', '한화', '롯데', 'NC', '키움'])\n",
    "승 = np.array(['72', '67', '64', '63', '59', '58', '56', '52', '52', '53'])\n",
    "패 = np.array(['48', '54', '55', '60', '62', '63', '61', '61', '64', '68'])\n",
    "무 = np.array(['2', '2', '2', '2', '2', '1', '2', '3', '2', '0'])\n",
    "승률 = np.array(['0.600','0.554','0.538','0.512','0.488','0.479','0.479','0.460','0.448','0.438'])\n",
    "# 파일에 쓰기\n",
    "with open(\"./datas/2024kbo.txt\", 'w') as f:\n",
    "    f.write(\"=============== 2024 한국 프로야구 성적표 =============\\n\")\n",
    "    header = \"순위\\t팀\\t승\\t패\\t무\\t승률\\n\"\n",
    "    f.write(header)\n",
    "    for i in range(len(순위)):\n",
    "        txt = f'{순위[i]}\\t{팀[i]}\\t{승[i]}\\t{패[i]}\\t{무[i]}\\t{승률[i]}\\n'\n",
    "        f.write(txt)\n",
    "# 파일에서 읽어오기\n",
    "with open(\"./datas/2024kbo.txt\", 'r') as f:\n",
    "    data = f.read()\n",
    "    print(data)"
   ]
  }
 ],
 "metadata": {
  "kernelspec": {
   "display_name": "Python 3 (ipykernel)",
   "language": "python",
   "name": "python3"
  },
  "language_info": {
   "codemirror_mode": {
    "name": "ipython",
    "version": 3
   },
   "file_extension": ".py",
   "mimetype": "text/x-python",
   "name": "python",
   "nbconvert_exporter": "python",
   "pygments_lexer": "ipython3",
   "version": "3.12.4"
  }
 },
 "nbformat": 4,
 "nbformat_minor": 5
}
