{
 "cells": [
  {
   "cell_type": "markdown",
   "id": "2aa1f40c-4efb-4f30-ba68-9023decdfdfe",
   "metadata": {},
   "source": [
    "#### Series 클래스 - 데이터(리스트, 튜플, 딕셔너리)가 순차적으로 나열된 1차원 리스트의 형태를 갖는다"
   ]
  },
  {
   "cell_type": "code",
   "execution_count": 9,
   "id": "aaa3ea84-5bd8-49cc-812d-2e698dd74b29",
   "metadata": {},
   "outputs": [
    {
     "name": "stdout",
     "output_type": "stream",
     "text": [
      "a    1\n",
      "b    2\n",
      "c    3\n",
      "dtype: int64\n"
     ]
    }
   ],
   "source": [
    "import pandas as pd\n",
    "dict_data = {'a': 1, 'b':2, 'c':3}\n",
    "# series (데이터, 인덱스(헹의 이름표))\n",
    "sr = pd.Series(dict_data)\n",
    "print(sr)\n"
   ]
  },
  {
   "cell_type": "code",
   "execution_count": 17,
   "id": "e425b9bb-3308-4c3d-8578-afce86d0b110",
   "metadata": {},
   "outputs": [
    {
     "name": "stdout",
     "output_type": "stream",
     "text": [
      "0    2024-08-22\n",
      "1            10\n",
      "2         apple\n",
      "3          True\n",
      "dtype: object\n",
      "RangeIndex(start=0, stop=4, step=1)\n",
      "['2024-08-22' 10 'apple' True]\n"
     ]
    }
   ],
   "source": [
    "# 리스트로 시리즈 만들기\n",
    "list_data = ['2024-08-22', 10,'apple',True]\n",
    "sr = pd.Series(list_data)\n",
    "# 리스트로 만들면 기본 인댁스가 생성됨\n",
    "print(sr)\n",
    "print(sr.index)\n",
    "# 인덱스 출력 stop은 1빼야함\n",
    "print(sr.values)\n",
    "# 데이터 값 출력"
   ]
  },
  {
   "cell_type": "code",
   "execution_count": 25,
   "id": "0f1ff421-97e1-489a-bdd9-1ae6cb85b956",
   "metadata": {},
   "outputs": [
    {
     "name": "stdout",
     "output_type": "stream",
     "text": [
      "2018    143\n",
      "2019    150\n",
      "2020    157\n",
      "2021    160\n",
      "Name: Heignt, dtype: object\n",
      "150\n",
      "150\n"
     ]
    }
   ],
   "source": [
    "import pandas as pd\n",
    "height = ['143','150','157','160']\n",
    "growth = pd.Series(height, index = ['2018','2019','2020','2021'], name = 'Heignt')\n",
    "print(growth)\n",
    "# print(growth['2019']) \n",
    "# loc 행(문자), iloc행(숫자)\n",
    "print(growth.loc['2019']) \n",
    "print(growth.iloc[1]) \n",
    "# 딕셔너리 처럼 사용"
   ]
  },
  {
   "cell_type": "code",
   "execution_count": 31,
   "id": "b4fc7536-d7a6-4d04-b41f-c8aa580d09cd",
   "metadata": {},
   "outputs": [
    {
     "name": "stdout",
     "output_type": "stream",
     "text": [
      "밀가루     4 cups\n",
      "우유       1 cup\n",
      "계란     1 large\n",
      "참치캔      1 can\n",
      "Name: dinner, dtype: object\n"
     ]
    }
   ],
   "source": [
    "# 실습 1.\n",
    "import pandas as pd\n",
    "foods = ['4 cups','1 cup','1 large','1 can']\n",
    "markets = pd.Series(foods, index = ['밀가루','우유','계란','참치캔'], name = 'dinner')\n",
    "print(markets)"
   ]
  },
  {
   "cell_type": "code",
   "execution_count": null,
   "id": "f10418fa-527f-4747-acac-3be8ef1c9044",
   "metadata": {},
   "outputs": [],
   "source": []
  }
 ],
 "metadata": {
  "kernelspec": {
   "display_name": "Python 3 (ipykernel)",
   "language": "python",
   "name": "python3"
  },
  "language_info": {
   "codemirror_mode": {
    "name": "ipython",
    "version": 3
   },
   "file_extension": ".py",
   "mimetype": "text/x-python",
   "name": "python",
   "nbconvert_exporter": "python",
   "pygments_lexer": "ipython3",
   "version": "3.12.4"
  }
 },
 "nbformat": 4,
 "nbformat_minor": 5
}
