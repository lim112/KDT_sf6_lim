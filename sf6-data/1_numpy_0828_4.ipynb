{
 "cells": [
  {
   "cell_type": "code",
   "execution_count": 6,
   "id": "0b093942-a519-4f39-9c0c-651796f27a5d",
   "metadata": {},
   "outputs": [
    {
     "name": "stdout",
     "output_type": "stream",
     "text": [
      "[1. 2. 3. 4.]\n",
      "<class 'numpy.ndarray'>\n",
      "(4,)\n"
     ]
    }
   ],
   "source": [
    "import numpy as np\n",
    "\n",
    "num1 = [1,2,3,4]\n",
    "num2= [5,6,7,8]\n",
    "print(num1 +num2)\n",
    "# 데이터가 합쳐짐\n",
    "\n",
    "# 넘파일로 리스트를 생성\n",
    "x = np.array([1.,2,3,4])\n",
    "print(x)\n",
    "print(type(x))\n",
    "print(x.shape) # 행, 열 > 4열"
   ]
  },
  {
   "cell_type": "code",
   "execution_count": 12,
   "id": "94cd696a-c849-44fa-8b67-01e92d2b9c78",
   "metadata": {},
   "outputs": [
    {
     "name": "stdout",
     "output_type": "stream",
     "text": [
      "[3. 6. 9.]\n",
      "[-1. -2. -3.]\n",
      "[ 2.  8. 18.]\n",
      "[0.5 0.5 0.5]\n"
     ]
    }
   ],
   "source": [
    " # numpy 연산\n",
    "x = np.array([1.0,2.0,3.0])\n",
    "y = np.array([2.0,4.0,6.0])\n",
    "\n",
    "# 1차원 리스트에서는 항목의 개수가 다를경우 오류 생성\n",
    "print(x+y)\n",
    "print(x-y)\n",
    "print(x*y)\n",
    "print(x/y)"
   ]
  },
  {
   "cell_type": "code",
   "execution_count": 1,
   "id": "9a78c76f-df79-47f6-8449-48cc76a1c468",
   "metadata": {},
   "outputs": [
    {
     "name": "stdout",
     "output_type": "stream",
     "text": [
      "['1' '2' 'a' 'b']\n"
     ]
    },
    {
     "data": {
      "text/plain": [
       "['생수', '감자', 100, True]"
      ]
     },
     "execution_count": 1,
     "metadata": {},
     "output_type": "execute_result"
    }
   ],
   "source": [
    "# 한가지 자료형만 허용\n",
    "import numpy as np\n",
    "a = np.array([1,2,'a','b'])\n",
    "print(a)\n",
    "# 일반 리슽 - 여러가지 자료형 허용\n",
    "cart = ['생수','감자',100,True]\n",
    "cart"
   ]
  },
  {
   "cell_type": "code",
   "execution_count": 34,
   "id": "5b9689e2-b125-403e-b458-da5921c7cb6d",
   "metadata": {},
   "outputs": [
    {
     "name": "stdout",
     "output_type": "stream",
     "text": [
      "int32\n",
      "(2, 2)\n",
      "<class 'numpy.ndarray'>\n"
     ]
    }
   ],
   "source": [
    "# 넘파이 이차원 리스트\n",
    "# 넘파이에서는 항목의 수가 같아야한다\n",
    "# b = np.array([[1,2],[3]]) # > 오류\n",
    "# print(b)\n",
    "# print(b.shape)\n",
    "\n",
    "c = np.array([[1,2],[3,4]]) # > 오류\n",
    "print(c.dtype)\n",
    "print(c.shape)\n",
    "print(type(c))"
   ]
  },
  {
   "cell_type": "code",
   "execution_count": 40,
   "id": "335cd0d7-9ed9-4e63-b821-c3d55929bd95",
   "metadata": {},
   "outputs": [
    {
     "name": "stdout",
     "output_type": "stream",
     "text": [
      "[[0. 0. 0.]\n",
      " [0. 0. 0.]\n",
      " [0. 0. 0.]]\n",
      "(3, 3)\n",
      "[[1. 1. 1.]\n",
      " [1. 1. 1.]]\n"
     ]
    }
   ],
   "source": [
    "# zeros() - 리스트의 모든 인자를 0으로\n",
    "# ones() - 리스트의 모든 인자를 1로\n",
    "\n",
    "a1 = np.zeros((3,3))\n",
    "print(a1)\n",
    "print(a1.shape)\n",
    "a2 = np.ones((2,3))\n",
    "print(a2)\n",
    "\n"
   ]
  },
  {
   "cell_type": "code",
   "execution_count": 42,
   "id": "f07c64c9-9a88-4bd8-ae9b-b3ece08672e3",
   "metadata": {},
   "outputs": [
    {
     "name": "stdout",
     "output_type": "stream",
     "text": [
      "[3 3]\n"
     ]
    }
   ],
   "source": [
    "a3 = np.array((3,3))\n",
    "print(a3)"
   ]
  },
  {
   "cell_type": "code",
   "execution_count": 4,
   "id": "5e098db8-8e3f-4a90-9bc7-da0c355ca714",
   "metadata": {},
   "outputs": [
    {
     "name": "stdout",
     "output_type": "stream",
     "text": [
      "range(0, 10)\n",
      "[0, 1, 2, 3, 4, 5, 6, 7, 8, 9]\n",
      "[ 1  2  3  4  5  6  7  8  9 10]\n",
      "[0 1 2 3 4 5 6 7 8 9]\n",
      "[3 4 5 6 7 8]\n",
      "[1 3 5 7 9]\n"
     ]
    }
   ],
   "source": [
    "# np.arange()\n",
    "import numpy as np\n",
    "print(range(10))\n",
    "print(list(range(10)))\n",
    "a= np.arange(10)\n",
    "a3= np.arange(10) + 1\n",
    "print(a3) # 외부요소를 리스트로\n",
    "print(a) # 컴마가 없다\n",
    "a2 = np.arange(3,9)\n",
    "print(a2)\n",
    "\n",
    "a4= np.arange(1,10,2)\n",
    "print(a4)"
   ]
  }
 ],
 "metadata": {
  "kernelspec": {
   "display_name": "Python 3 (ipykernel)",
   "language": "python",
   "name": "python3"
  },
  "language_info": {
   "codemirror_mode": {
    "name": "ipython",
    "version": 3
   },
   "file_extension": ".py",
   "mimetype": "text/x-python",
   "name": "python",
   "nbconvert_exporter": "python",
   "pygments_lexer": "ipython3",
   "version": "3.12.4"
  }
 },
 "nbformat": 4,
 "nbformat_minor": 5
}
