{
 "cells": [
  {
   "cell_type": "markdown",
   "id": "e87ef47e-4506-4a2b-82c6-d01389e21f79",
   "metadata": {},
   "source": [
    "##### pandas - DataFrame 클래스 : 행(row)과 열(column)로 이뤄진 2차원 리스트이다"
   ]
  },
  {
   "cell_type": "code",
   "execution_count": 3,
   "id": "696de7a8-4fa5-488e-bda2-088531f38891",
   "metadata": {},
   "outputs": [
    {
     "data": {
      "text/html": [
       "<div>\n",
       "<style scoped>\n",
       "    .dataframe tbody tr th:only-of-type {\n",
       "        vertical-align: middle;\n",
       "    }\n",
       "\n",
       "    .dataframe tbody tr th {\n",
       "        vertical-align: top;\n",
       "    }\n",
       "\n",
       "    .dataframe thead th {\n",
       "        text-align: right;\n",
       "    }\n",
       "</style>\n",
       "<table border=\"1\" class=\"dataframe\">\n",
       "  <thead>\n",
       "    <tr style=\"text-align: right;\">\n",
       "      <th></th>\n",
       "      <th>영희</th>\n",
       "      <th>철수</th>\n",
       "    </tr>\n",
       "  </thead>\n",
       "  <tbody>\n",
       "    <tr>\n",
       "      <th>2018</th>\n",
       "      <td>143</td>\n",
       "      <td>145</td>\n",
       "    </tr>\n",
       "    <tr>\n",
       "      <th>2019</th>\n",
       "      <td>150</td>\n",
       "      <td>165</td>\n",
       "    </tr>\n",
       "    <tr>\n",
       "      <th>2020</th>\n",
       "      <td>157</td>\n",
       "      <td>175</td>\n",
       "    </tr>\n",
       "    <tr>\n",
       "      <th>2021</th>\n",
       "      <td>160</td>\n",
       "      <td>180</td>\n",
       "    </tr>\n",
       "  </tbody>\n",
       "</table>\n",
       "</div>"
      ],
      "text/plain": [
       "       영희   철수\n",
       "2018  143  145\n",
       "2019  150  165\n",
       "2020  157  175\n",
       "2021  160  180"
      ]
     },
     "execution_count": 3,
     "metadata": {},
     "output_type": "execute_result"
    }
   ],
   "source": [
    "#1. 시리즈 결합해서 데이터 프레임 만들기\n",
    "import pandas as pd\n",
    "index = ['2018','2019','2020','2021']\n",
    "younghee = pd.Series([143,150,157,160], index = index)\n",
    "cheolsu = pd.Series([145,165,175,180], index = index)\n",
    "growth = pd.DataFrame({\n",
    "    '영희' : younghee,\n",
    "    '철수' : cheolsu\n",
    "})\n",
    "growth\n"
   ]
  },
  {
   "cell_type": "code",
   "execution_count": 5,
   "id": "77a6c3eb-92ad-4a8a-b7ae-3b74ed5bf5d3",
   "metadata": {},
   "outputs": [
    {
     "name": "stdout",
     "output_type": "stream",
     "text": [
      "       영희   철수\n",
      "2018  143  145\n",
      "2019  150  165\n",
      "2020  157  175\n",
      "2021  160  180 \n",
      "\n",
      "       영희   철수\n",
      "2020  157  175\n",
      "2021  160  180 \n",
      "\n",
      "       영희   철수\n",
      "2020  157  175\n",
      "2021  160  180 \n",
      "\n",
      "영희    157\n",
      "철수    175\n",
      "Name: 2020, dtype: int64 \n",
      "\n",
      "영희    157\n",
      "철수    175\n",
      "Name: 2020, dtype: int64 \n",
      "\n"
     ]
    }
   ],
   "source": [
    "import pandas as pd\n",
    "# 일반적인 데이터 프레임 만들기\n",
    "index = ['2018','2019','2020','2021']\n",
    "data = {\n",
    "    '영희' : [143,150,157,160],\n",
    "    '철수' : [145, 165,175,180]\n",
    "}\n",
    "growth = pd.DataFrame(data, index = index)\n",
    "growth\n",
    "\n",
    "# print(growth.columns)\n",
    "# print(growth.values)\n",
    "\n",
    "# 열 선택 꺽쇠 괄호 1\n",
    "# print(growth['철수'])\n",
    "# # print(growth['영희','철수'])\n",
    "\n",
    "# # 열 이름 출력 [[]] 꺽쇠 괄호 2개\n",
    "# print(growth[['철수']])\n",
    "\n",
    "print(growth[['영희','철수']],'\\n')\n",
    "# print(growth[['영희']])\n",
    "\n",
    "# loc[행(문자)] , iloc[인덱스(숫자)]\n",
    "# 2020,2021년\n",
    "print(growth.loc[['2020', '2021']],'\\n')\n",
    "print(growth.iloc[[2, 3]],'\\n')\n",
    "\n",
    "# 2020년 데이터 \n",
    "print(growth.loc['2020'],'\\n')\n",
    "print(growth.iloc[2],'\\n')\n"
   ]
  },
  {
   "cell_type": "code",
   "execution_count": 81,
   "id": "fe9b1447-d145-400e-a3d0-3a40a1c09a36",
   "metadata": {},
   "outputs": [
    {
     "name": "stdout",
     "output_type": "stream",
     "text": [
      "2018    145\n",
      "2019    165\n",
      "2020    175\n",
      "2021    180\n",
      "Name: 철수, dtype: int64\n"
     ]
    }
   ],
   "source": [
    "import pandas as pd\n",
    "\n",
    "# 인덱스 정의\n",
    "index = ['2018', '2019', '2020', '2021']\n",
    "\n",
    "# 데이터 정의\n",
    "data = {\n",
    "    '영희': [143150, 157, 160, 14],\n",
    "    '철수': [145, 165, 175, 180]\n",
    "}\n",
    "\n",
    "# 데이터 프레임 생성\n",
    "growth = pd.DataFrame(data, index=index)\n",
    "\n",
    "# 열 선택: 철수의 데이터를 선택\n",
    "print(growth['철수'])\n",
    "\n",
    "# # 열 선택: 영희와 철수의 데이터를 선택 (중첩된 대괄호 사용)\n",
    "# print(growth[['영희', '철수']])\n",
    "\n",
    "# # 열 이름을 사용하여 선택\n",
    "# print(growth[['철수']])\n"
   ]
  },
  {
   "cell_type": "code",
   "execution_count": 108,
   "id": "f800ab30-5a86-448f-a905-a4699c3a452c",
   "metadata": {},
   "outputs": [
    {
     "name": "stdout",
     "output_type": "stream",
     "text": [
      "       영희   철수\n",
      "2018  143  145\n",
      "2019  150  165\n",
      "2020  157  175\n",
      "2021  160  180\n",
      "175\n",
      "175\n",
      "       영희   철수\n",
      "2018  143  145\n",
      "2019  150  165\n",
      "2021  160  180\n",
      "2022  170  185\n"
     ]
    }
   ],
   "source": [
    "# 일반적인 데이터 프레임 만들기\n",
    "index = ['2018','2019','2020','2021']\n",
    "data = {\n",
    "    '영희' : [143,150,157,160],\n",
    "    '철수' : [145,165,175,180]\n",
    "}\n",
    "growth = pd.DataFrame(data, index = index)\n",
    "print(growth)\n",
    "\n",
    "# 특정 요소 한개 선택\n",
    "# loc[행(문자), 열(문자)], # iloc[행(숫자), 열(숫자)]\n",
    "print(growth.loc['2020', '철수'])\n",
    "print(growth.iloc[2,1])\n",
    "\n",
    "# 새로운 행 추가\n",
    "new_index = '2022'\n",
    "growth.loc[new_index] = [170, 185]  # 새로운 연도 데이터 추가\n",
    "\n",
    "# 행 삭제 - 2020년\n",
    "# 복사 - 원본 유지 : 깊은 복사 - copy()\n",
    "growth2 = growth.copy()\n",
    "growth2 = growth2.drop('2020') # 행삭제\n",
    "print(growth2)"
   ]
  },
  {
   "cell_type": "code",
   "execution_count": 79,
   "id": "e6139ab1-84dd-47aa-be97-0a6797e8416a",
   "metadata": {},
   "outputs": [
    {
     "data": {
      "text/html": [
       "<div>\n",
       "<style scoped>\n",
       "    .dataframe tbody tr th:only-of-type {\n",
       "        vertical-align: middle;\n",
       "    }\n",
       "\n",
       "    .dataframe tbody tr th {\n",
       "        vertical-align: top;\n",
       "    }\n",
       "\n",
       "    .dataframe thead th {\n",
       "        text-align: right;\n",
       "    }\n",
       "</style>\n",
       "<table border=\"1\" class=\"dataframe\">\n",
       "  <thead>\n",
       "    <tr style=\"text-align: right;\">\n",
       "      <th></th>\n",
       "      <th>apples</th>\n",
       "      <th>bananas</th>\n",
       "    </tr>\n",
       "  </thead>\n",
       "  <tbody>\n",
       "    <tr>\n",
       "      <th>0</th>\n",
       "      <td>30</td>\n",
       "      <td>21</td>\n",
       "    </tr>\n",
       "  </tbody>\n",
       "</table>\n",
       "</div>"
      ],
      "text/plain": [
       "   apples  bananas\n",
       "0      30       21"
      ]
     },
     "execution_count": 79,
     "metadata": {},
     "output_type": "execute_result"
    }
   ],
   "source": [
    "import pandas as pd\n",
    "index = 0\n",
    "fruits = pd.DataFrame({'apples': [30], 'bananas' : [21]}, index = [0])\n",
    "fruits"
   ]
  },
  {
   "cell_type": "code",
   "execution_count": 6,
   "id": "4f82df0f-4d5f-45ab-a321-9776b9e68730",
   "metadata": {},
   "outputs": [
    {
     "data": {
      "text/html": [
       "<div>\n",
       "<style scoped>\n",
       "    .dataframe tbody tr th:only-of-type {\n",
       "        vertical-align: middle;\n",
       "    }\n",
       "\n",
       "    .dataframe tbody tr th {\n",
       "        vertical-align: top;\n",
       "    }\n",
       "\n",
       "    .dataframe thead th {\n",
       "        text-align: right;\n",
       "    }\n",
       "</style>\n",
       "<table border=\"1\" class=\"dataframe\">\n",
       "  <thead>\n",
       "    <tr style=\"text-align: right;\">\n",
       "      <th></th>\n",
       "      <th>국어</th>\n",
       "      <th>수학</th>\n",
       "      <th>영어</th>\n",
       "    </tr>\n",
       "  </thead>\n",
       "  <tbody>\n",
       "    <tr>\n",
       "      <th>재천</th>\n",
       "      <td>90</td>\n",
       "      <td>80</td>\n",
       "      <td>85</td>\n",
       "    </tr>\n",
       "    <tr>\n",
       "      <th>선영</th>\n",
       "      <td>80</td>\n",
       "      <td>75</td>\n",
       "      <td>95</td>\n",
       "    </tr>\n",
       "    <tr>\n",
       "      <th>일성</th>\n",
       "      <td>70</td>\n",
       "      <td>95</td>\n",
       "      <td>100</td>\n",
       "    </tr>\n",
       "    <tr>\n",
       "      <th>현수</th>\n",
       "      <td>50</td>\n",
       "      <td>30</td>\n",
       "      <td>20</td>\n",
       "    </tr>\n",
       "  </tbody>\n",
       "</table>\n",
       "</div>"
      ],
      "text/plain": [
       "    국어  수학   영어\n",
       "재천  90  80   85\n",
       "선영  80  75   95\n",
       "일성  70  95  100\n",
       "현수  50  30   20"
      ]
     },
     "execution_count": 6,
     "metadata": {},
     "output_type": "execute_result"
    }
   ],
   "source": [
    "# 실습 2 데이터 프레임\n",
    "user = ['재천', '선영', '일성']\n",
    "data = {\n",
    "    '국어' : [90,80,70],\n",
    "    '수학' : [80,75,95],\n",
    "    '영어' : [85,95,100]\n",
    "}\n",
    "grade = pd.DataFrame(data, index = user)\n",
    "grade\n",
    "\n",
    "# 행 추가\n",
    "user.append('현수')\n",
    "# data = {\n",
    "#     '국어' : [90,80,70,50],\n",
    "#     '수학' : [80,75,95,30],\n",
    "#     '영어' : [85,95,100,40]\n",
    "# }\n",
    "\n",
    "data['국어'].append(50)\n",
    "data['수학'].append(30)\n",
    "data['영어'].append(20)\n",
    "# print(data)\n",
    "grade = pd.DataFrame(data, index = user)\n",
    "grade"
   ]
  },
  {
   "cell_type": "code",
   "execution_count": 110,
   "id": "defd29b0-7783-4ad5-a038-049897719805",
   "metadata": {},
   "outputs": [],
   "source": [
    "# csv파일 만들기\n",
    "user = ['재천', '선영', '일성']\n",
    "data = {\n",
    "    '국어' : [90,80,70],\n",
    "    '수학' : [80,75,95],\n",
    "    '영어' : [85,95,100]\n",
    "}\n",
    "grade = pd.DataFrame(data, index = user)\n",
    "grade.to_csv('./datas/grade.csv')\n",
    "\n"
   ]
  },
  {
   "cell_type": "code",
   "execution_count": 114,
   "id": "29744c49-72b2-45d0-982f-b5becbadcbec",
   "metadata": {},
   "outputs": [
    {
     "name": "stdout",
     "output_type": "stream",
     "text": [
      "  Unnamed: 0  국어  수학   영어\n",
      "0         재천  90  80   85\n",
      "1         선영  80  75   95\n",
      "2         일성  70  95  100\n"
     ]
    }
   ],
   "source": [
    "# csv파일 읽기 read_csv(경로)\n",
    "import pandas as pd\n",
    "grade2 = pd.read_csv('./datas/grade.csv')\n",
    "print(grade2)\n"
   ]
  },
  {
   "cell_type": "code",
   "execution_count": 8,
   "id": "f48c38da-f5cb-464c-9a56-fa73e9974b4b",
   "metadata": {},
   "outputs": [
    {
     "data": {
      "text/html": [
       "<div>\n",
       "<style scoped>\n",
       "    .dataframe tbody tr th:only-of-type {\n",
       "        vertical-align: middle;\n",
       "    }\n",
       "\n",
       "    .dataframe tbody tr th {\n",
       "        vertical-align: top;\n",
       "    }\n",
       "\n",
       "    .dataframe thead th {\n",
       "        text-align: right;\n",
       "    }\n",
       "</style>\n",
       "<table border=\"1\" class=\"dataframe\">\n",
       "  <thead>\n",
       "    <tr style=\"text-align: right;\">\n",
       "      <th></th>\n",
       "      <th>0</th>\n",
       "      <th>1</th>\n",
       "    </tr>\n",
       "  </thead>\n",
       "  <tbody>\n",
       "    <tr>\n",
       "      <th>2018</th>\n",
       "      <td>143</td>\n",
       "      <td>165</td>\n",
       "    </tr>\n",
       "    <tr>\n",
       "      <th>2019</th>\n",
       "      <td>150</td>\n",
       "      <td>172</td>\n",
       "    </tr>\n",
       "    <tr>\n",
       "      <th>2020</th>\n",
       "      <td>157</td>\n",
       "      <td>175</td>\n",
       "    </tr>\n",
       "    <tr>\n",
       "      <th>2021</th>\n",
       "      <td>160</td>\n",
       "      <td>180</td>\n",
       "    </tr>\n",
       "  </tbody>\n",
       "</table>\n",
       "</div>"
      ],
      "text/plain": [
       "        0    1\n",
       "2018  143  165\n",
       "2019  150  172\n",
       "2020  157  175\n",
       "2021  160  180"
      ]
     },
     "execution_count": 8,
     "metadata": {},
     "output_type": "execute_result"
    }
   ],
   "source": [
    "# 2차원 리스트 데이터 프레임 만들기\n",
    "import pandas as pd\n",
    "\n",
    "data = [[143, 165], [150,172],[157,175],[160,180]]\n",
    "index = ['2018','2019','2020','2021']\n",
    "growth = pd.DataFrame(data,index = index)\n",
    "growth"
   ]
  },
  {
   "cell_type": "code",
   "execution_count": 12,
   "id": "d65c70b8-e748-4f1f-8dae-ac7044eed875",
   "metadata": {},
   "outputs": [
    {
     "name": "stdout",
     "output_type": "stream",
     "text": [
      "       영희   철수\n",
      "2018  143  145\n",
      "2019  150  165\n",
      "2020  157  175\n",
      "2021  160  180\n"
     ]
    }
   ],
   "source": [
    "# 일반적인 데이터 프레임 만들기\n",
    "index = ['2018','2019','2020','2021']\n",
    "data = {\n",
    "    '영희' : [143,150,157,160],\n",
    "    '철수' : [145,165,175,180]\n",
    "}\n",
    "growth = pd.DataFrame(data, index = index)\n",
    "print(growth[['영희','철수']])"
   ]
  },
  {
   "cell_type": "code",
   "execution_count": 24,
   "id": "3b369159-a000-4915-a02b-838c66648dca",
   "metadata": {},
   "outputs": [
    {
     "name": "stdout",
     "output_type": "stream",
     "text": [
      "       영희   시현\n",
      "2018  143  155\n",
      "2019  150  160\n",
      "2021  160  170\n",
      "2022  162  172\n"
     ]
    }
   ],
   "source": [
    "import pandas\n",
    "# 일반적인 데이터 프레임 만들기\n",
    "index = ['2018','2019','2020','2021']\n",
    "data = {\n",
    "    '영희' : [143,150,157,160],\n",
    "    '철수' : [145,165,175,180]\n",
    "}\n",
    "growth = pd.DataFrame(data, index = index)\n",
    "\n",
    "\n",
    "# # 특정 요소 한개 선택\n",
    "# # loc[행(문자), 열(문자)], # iloc[행(숫자), 열(숫자)]\n",
    "# print(growth.loc['2020', '철수'])\n",
    "# print(growth.iloc[2,1])\n",
    "\n",
    "# # 새로운 행 추가\n",
    "# new_index = '2022'\n",
    "# growth.loc[new_index] = [170, 185]  # 새로운 연도 데이터 추가\n",
    "\n",
    "# 새로운 열 추가\n",
    "# growth.loc['2022'] = [162,181,172]\n",
    "# growth['시현'] = [155,160,165,170]\n",
    "growth.loc['2022'] = [162,181]\n",
    "growth['시현'] = [155,160,165,170,172]\n",
    "# 데이터에는 null이 있으면 안된다\n",
    "\n",
    "\n",
    "# # 행 삭제 - 2020년\n",
    "# # 복사 - 원본 유지 : 깊은 복사 - copy()\n",
    "growth2 = growth.copy()\n",
    "growth2 = growth2.drop('2020', axis = 0) # axis = 0 생략가능\n",
    "# 행삭제\n",
    "growth2= growth2.drop('철수',axis = 1)\n",
    "print(growth2)\n",
    "# print(growth)"
   ]
  },
  {
   "cell_type": "code",
   "execution_count": 64,
   "id": "a7801574-8742-4066-a1da-3d81ca063432",
   "metadata": {},
   "outputs": [
    {
     "name": "stdout",
     "output_type": "stream",
     "text": [
      "[1, 2, 3, 4]\n",
      "[1, 10, 3, 4]\n",
      "[1, 10, 3, 4]\n",
      "[1, 2, 3, 4]\n",
      "[1, 10, 3, 4]\n"
     ]
    }
   ],
   "source": [
    "# 얕은 복사와 깊은 복사\n",
    "\n",
    "# 얕은 복사 - 복사본을 수정하면 원본도 수정된다\n",
    "a = [1,2,3,4]\n",
    "print(a) # [1, 2, 3, 4]\n",
    "b = a # 복사\n",
    "b[1] = 10 # 수정\n",
    "print(b)#[1, 10, 3, 4]\n",
    "print(a) #[1, 10, 3, 4]\n",
    "\n",
    "# 깊은 복사 - 복사본을 수정해도 원본은 유지된다. copy()\n",
    "# c = [1,2,3,4]\n",
    "# d = c.copy()\n",
    "# d[1] = 10\n",
    "# print(c)\n",
    "# print(d)\n",
    "\n"
   ]
  },
  {
   "cell_type": "code",
   "execution_count": 92,
   "id": "7b430958-8c37-47a6-98c4-097d102f2e8d",
   "metadata": {},
   "outputs": [
    {
     "name": "stdout",
     "output_type": "stream",
     "text": [
      "      sdf  cheolsoo\n",
      "2018  143       145\n"
     ]
    }
   ],
   "source": [
    "# 요소 수정, 변경 ( 업데이트 )\n",
    "import pandas\n",
    "# 일반적인 데이터 프레임 만들기\n",
    "index = ['2018','2019','2020','2021']\n",
    "data = {\n",
    "    '영희' : [143,150,157,160],\n",
    "    '철수' : [145,165,175,180]\n",
    "}\n",
    "\n",
    "growth = pd.DataFrame(data, index = index)\n",
    "# print(growth)\n",
    "# 0826_1\n",
    "# 철수의 2020년 키를 177로 변경\n",
    "growth.loc['2020','철수'] = 177\n",
    "\n",
    "# 칼럼이름 변경 - rename(column - {ole:new}, inplace = true) inplace = true - 저장 여부\n",
    "# 영희를 yeonghee\n",
    "# print(growth.columns)\n",
    "# print(growth.columns[0])\n",
    "growth.rename(columns = {'영희':'yeonghee'}, inplace = True)\n",
    "# 칼럼을 여러개 변경\n",
    "growth.rename(columns = {'yeonghee' : 'sdf', '철수' : 'cheolsoo'}, inplace = True)\n",
    "# print(growth)\n",
    "\n",
    "# 0826_1\n",
    "# print(growth.iloc[시작 범위:마지막 범위:간격]) 디폴트는 처음 : 1, 간격 : 1 마지막 : 종료인덱스\n",
    "# print(growth.iloc[시작 범위:마지막 범위]) 디폴트는 처음 : 1,  마지막 : 종료인덱스\n",
    "# 행, 열 전체 선택(범위 연산자 - ':')\n",
    "print(growth.iloc[0:1]) \n",
    "# # 전체를 1행 간격으로 출력\n",
    "# print(growth.iloc[ : : 2]) \n",
    "# # 전체를 2행 간격으로 출력\n",
    "# print(growth.iloc[0:2:1]) \n",
    "# # 전체를 2행까지 1행 간격으로 출력\n",
    "# print(growth.iloc[ : : -1]) \n",
    "# # 전체를 역순으로 출력"
   ]
  },
  {
   "cell_type": "code",
   "execution_count": 4,
   "id": "72c92778-5af2-449b-8c1b-d4b56d6bab84",
   "metadata": {},
   "outputs": [
    {
     "name": "stdout",
     "output_type": "stream",
     "text": [
      "       영희   철수\n",
      "연도            \n",
      "2018  143  145\n",
      "2019  150  165\n",
      "2020  157  175\n",
      "2021  160  180\n"
     ]
    },
    {
     "data": {
      "text/html": [
       "<div>\n",
       "<style scoped>\n",
       "    .dataframe tbody tr th:only-of-type {\n",
       "        vertical-align: middle;\n",
       "    }\n",
       "\n",
       "    .dataframe tbody tr th {\n",
       "        vertical-align: top;\n",
       "    }\n",
       "\n",
       "    .dataframe thead th {\n",
       "        text-align: right;\n",
       "    }\n",
       "</style>\n",
       "<table border=\"1\" class=\"dataframe\">\n",
       "  <thead>\n",
       "    <tr style=\"text-align: right;\">\n",
       "      <th></th>\n",
       "      <th>영희</th>\n",
       "      <th>철수</th>\n",
       "    </tr>\n",
       "    <tr>\n",
       "      <th>연도</th>\n",
       "      <th></th>\n",
       "      <th></th>\n",
       "    </tr>\n",
       "  </thead>\n",
       "  <tbody>\n",
       "    <tr>\n",
       "      <th>2018</th>\n",
       "      <td>143</td>\n",
       "      <td>145</td>\n",
       "    </tr>\n",
       "    <tr>\n",
       "      <th>2019</th>\n",
       "      <td>150</td>\n",
       "      <td>165</td>\n",
       "    </tr>\n",
       "    <tr>\n",
       "      <th>2020</th>\n",
       "      <td>157</td>\n",
       "      <td>175</td>\n",
       "    </tr>\n",
       "    <tr>\n",
       "      <th>2021</th>\n",
       "      <td>160</td>\n",
       "      <td>180</td>\n",
       "    </tr>\n",
       "  </tbody>\n",
       "</table>\n",
       "</div>"
      ],
      "text/plain": [
       "       영희   철수\n",
       "연도            \n",
       "2018  143  145\n",
       "2019  150  165\n",
       "2020  157  175\n",
       "2021  160  180"
      ]
     },
     "execution_count": 4,
     "metadata": {},
     "output_type": "execute_result"
    }
   ],
   "source": [
    "import pandas as pd\n",
    "\n",
    "# 칼럼을 인덱스로 설정하기\n",
    "data = {\n",
    "    '연도' : ['2018','2019','2020','2021'],\n",
    "    '영희' : [143,150,157,160],\n",
    "    '철수' : [145, 165,175,180]\n",
    "}\n",
    "# growth = pd.DataFrame(data, index = index)\n",
    "growth = pd.DataFrame(data)\n",
    "growth = growth.set_index('연도')\n",
    "# 데이터 안에 인덱스를 넣어서 사용할때는 '셋 인덱스 '사용\n",
    "\n",
    "print(growth)\n",
    "growth\n"
   ]
  },
  {
   "cell_type": "code",
   "execution_count": null,
   "id": "e471cbc2-e5fa-485c-860f-d93cca5c931e",
   "metadata": {},
   "outputs": [],
   "source": []
  }
 ],
 "metadata": {
  "kernelspec": {
   "display_name": "Python 3 (ipykernel)",
   "language": "python",
   "name": "python3"
  },
  "language_info": {
   "codemirror_mode": {
    "name": "ipython",
    "version": 3
   },
   "file_extension": ".py",
   "mimetype": "text/x-python",
   "name": "python",
   "nbconvert_exporter": "python",
   "pygments_lexer": "ipython3",
   "version": "3.12.4"
  }
 },
 "nbformat": 4,
 "nbformat_minor": 5
}
