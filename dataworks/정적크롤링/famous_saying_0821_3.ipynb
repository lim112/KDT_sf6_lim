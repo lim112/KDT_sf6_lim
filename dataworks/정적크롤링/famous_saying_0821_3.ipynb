{
 "cells": [
  {
   "cell_type": "code",
   "execution_count": 27,
   "metadata": {},
   "outputs": [
    {
     "data": {
      "text/plain": [
       "['Albert Einstein',\n",
       " 'J.K. Rowling',\n",
       " 'Albert Einstein',\n",
       " 'Jane Austen',\n",
       " 'Marilyn Monroe',\n",
       " 'Albert Einstein',\n",
       " 'André Gide',\n",
       " 'Thomas A. Edison',\n",
       " 'Eleanor Roosevelt',\n",
       " 'Steve Martin']"
      ]
     },
     "execution_count": 27,
     "metadata": {},
     "output_type": "execute_result"
    }
   ],
   "source": [
    "import requests as req\n",
    "from bs4 import BeautifulSoup \n",
    "url = \"https://quotes.toscrape.com/\"\n",
    "res = req.get(url)\n",
    "html = BeautifulSoup(res.text, 'html.parser')\n",
    "\n",
    "# quote_div = html.find_all('div', class_= \"quote\")\n",
    "\n",
    "# find_all 버전\n",
    "# quote_span = html.find_all('span', class_='text')\n",
    "# for quote in quote_span:\n",
    "#     print(qupte.text.strip())\n",
    "\n",
    "# select 버전\n",
    "quote_text = html.select('div.quote > span.text')\n",
    "[i.text for i in quote_text]\n",
    "# 아래 줄을 한줄로 쓴 것\n",
    "# a = []\n",
    "# for i in quote_text:\n",
    "#     a.append(i.text)\n",
    "# print(a)\n",
    "quote_author = html.select(\"div.quote > span > small.author\")\n",
    "        # fromce\n",
    "[i.text for i in quote_author]\n",
    "\n",
    "# 말한 사람 링크\n",
    "# quote_link = html.select(\"div.quote > span > a\")\n",
    "# [i['href']for i in quote_link]\n"
   ]
  },
  {
   "cell_type": "code",
   "execution_count": null,
   "metadata": {},
   "outputs": [],
   "source": []
  }
 ],
 "metadata": {
  "kernelspec": {
   "display_name": "Python 3",
   "language": "python",
   "name": "python3"
  },
  "language_info": {
   "codemirror_mode": {
    "name": "ipython",
    "version": 3
   },
   "file_extension": ".py",
   "mimetype": "text/x-python",
   "name": "python",
   "nbconvert_exporter": "python",
   "pygments_lexer": "ipython3",
   "version": "3.12.4"
  }
 },
 "nbformat": 4,
 "nbformat_minor": 2
}
