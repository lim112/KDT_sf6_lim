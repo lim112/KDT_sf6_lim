{
 "cells": [
  {
   "cell_type": "code",
   "execution_count": 28,
   "metadata": {},
   "outputs": [
    {
     "name": "stdout",
     "output_type": "stream",
     "text": [
      "<ul class=\"industry\">\n",
      "<li>인공지능</li>\n",
      "<li>인공지능</li>\n",
      "<li>인공지능</li>\n",
      "</ul>\n",
      "\n",
      "인공지능\n",
      "인공지능\n",
      "인공지능\n",
      "\n",
      "<ul class=\"comlang\">\n",
      "<li>python</li>\n",
      "<li>c++</li>\n",
      "<li>Java</li>\n",
      "</ul>\n",
      "[<li>인공지능</li>, <li>인공지능</li>, <li>인공지능</li>]\n",
      "<li>인공지능</li>\n",
      "인공지능\n",
      "\n",
      "인공지능\n",
      "인공지능\n",
      "인공지능\n",
      "\n",
      "[<li>인공지능</li>, <li>인공지능</li>, <li>인공지능</li>]\n",
      "<li>인공지능</li>\n",
      "인공지능\n"
     ]
    },
    {
     "ename": "AttributeError",
     "evalue": "ResultSet object has no attribute 'text'. You're probably treating a list of elements like a single element. Did you call find_all() when you meant to call find()?",
     "output_type": "error",
     "traceback": [
      "\u001b[1;31m---------------------------------------------------------------------------\u001b[0m",
      "\u001b[1;31mAttributeError\u001b[0m                            Traceback (most recent call last)",
      "Cell \u001b[1;32mIn[28], line 55\u001b[0m\n\u001b[0;32m     53\u001b[0m \u001b[38;5;28mprint\u001b[39m(lis[\u001b[38;5;241m1\u001b[39m])\n\u001b[0;32m     54\u001b[0m \u001b[38;5;28mprint\u001b[39m(lis[\u001b[38;5;241m1\u001b[39m]\u001b[38;5;241m.\u001b[39mtext)\n\u001b[1;32m---> 55\u001b[0m \u001b[38;5;28mprint\u001b[39m(\u001b[43mlis\u001b[49m\u001b[38;5;241;43m.\u001b[39;49m\u001b[43mtext\u001b[49m)\n",
      "File \u001b[1;32mc:\\Users\\vvv\\AppData\\Local\\Programs\\Python\\Python312\\Lib\\site-packages\\bs4\\element.py:2433\u001b[0m, in \u001b[0;36mResultSet.__getattr__\u001b[1;34m(self, key)\u001b[0m\n\u001b[0;32m   2431\u001b[0m \u001b[38;5;28;01mdef\u001b[39;00m \u001b[38;5;21m__getattr__\u001b[39m(\u001b[38;5;28mself\u001b[39m, key):\n\u001b[0;32m   2432\u001b[0m \u001b[38;5;250m    \u001b[39m\u001b[38;5;124;03m\"\"\"Raise a helpful exception to explain a common code fix.\"\"\"\u001b[39;00m\n\u001b[1;32m-> 2433\u001b[0m     \u001b[38;5;28;01mraise\u001b[39;00m \u001b[38;5;167;01mAttributeError\u001b[39;00m(\n\u001b[0;32m   2434\u001b[0m         \u001b[38;5;124m\"\u001b[39m\u001b[38;5;124mResultSet object has no attribute \u001b[39m\u001b[38;5;124m'\u001b[39m\u001b[38;5;132;01m%s\u001b[39;00m\u001b[38;5;124m'\u001b[39m\u001b[38;5;124m. You\u001b[39m\u001b[38;5;124m'\u001b[39m\u001b[38;5;124mre probably treating a list of elements like a single element. Did you call find_all() when you meant to call find()?\u001b[39m\u001b[38;5;124m\"\u001b[39m \u001b[38;5;241m%\u001b[39m key\n\u001b[0;32m   2435\u001b[0m     )\n",
      "\u001b[1;31mAttributeError\u001b[0m: ResultSet object has no attribute 'text'. You're probably treating a list of elements like a single element. Did you call find_all() when you meant to call find()?"
     ]
    }
   ],
   "source": [
    "# beatifulsoup 사용\n",
    "from bs4 import BeautifulSoup\n",
    "# 설치가 안되어 있을경우 pip install Beatifulsoup4\n",
    "\n",
    "html_str = '''\n",
    "<html>\n",
    "    <body>\n",
    "        <div id='content'>\n",
    "            <ul class='industry'>\n",
    "                <li>인공지능</li>\n",
    "                <li>인공지능</li>\n",
    "                <li>인공지능</li>\n",
    "            </ul>\n",
    "            <ul class='comlang'>\n",
    "                <li>python</li>\n",
    "                <li>c++</li>\n",
    "                <li>Java</li>\n",
    "            </ul>\n",
    "        </div>\n",
    "    </body>\n",
    "</html>\n",
    "'''\n",
    "# beatifulsoup(html 텍스트, 'html.parser')\n",
    "soup = BeautifulSoup(html_str, \"html.parser\")\n",
    "# find('테그 선택자') = 처음나오는 테그의 텍스트를 찾음\n",
    "first_ul = soup.find('ul')\n",
    "print(first_ul)\n",
    "print(first_ul.text)\n",
    "# 테그의 텍스트만 가져오기'\n",
    "first_ul_text = first_ul.text\n",
    "\n",
    "# class = 'comlang'인 값 가져오기\n",
    "# second_ul = soup.find('ul', attrs={'class' : 'comlang'})\n",
    "second_ul = soup.find('ul',class_ = 'comlang')\n",
    "# 위 주석이랑 같은 뜻\n",
    "print(second_ul)\n",
    "\n",
    "# li의 모든 요소 찾기\n",
    "first_all_li = first_ul.find_all('li')\n",
    "print(first_all_li)\n",
    "# 하나만 찾아내기\n",
    "print(first_all_li[1])\n",
    "# 그중에 테그 빼고 텍스트만 출력\n",
    "print(first_all_li[1].text)\n",
    "\n",
    "# 1개 찾기 - select_one(), 여러개 - select()\n",
    "first_ul = soup.select_one('ul.industry')\n",
    "print(first_ul.text)\n",
    "\n",
    "# 하위 선택자 - 공백문자\n",
    "lis = first_ul.select('ul.industry li')\n",
    "print(lis)\n",
    "print(lis[1])\n",
    "print(lis[1].text)"
   ]
  },
  {
   "cell_type": "code",
   "execution_count": null,
   "metadata": {},
   "outputs": [],
   "source": []
  }
 ],
 "metadata": {
  "kernelspec": {
   "display_name": "Python 3",
   "language": "python",
   "name": "python3"
  },
  "language_info": {
   "codemirror_mode": {
    "name": "ipython",
    "version": 3
   },
   "file_extension": ".py",
   "mimetype": "text/x-python",
   "name": "python",
   "nbconvert_exporter": "python",
   "pygments_lexer": "ipython3",
   "version": "3.12.4"
  }
 },
 "nbformat": 4,
 "nbformat_minor": 2
}
