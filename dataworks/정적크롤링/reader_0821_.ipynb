{
 "cells": [
  {
   "cell_type": "code",
   "execution_count": 3,
   "metadata": {},
   "outputs": [
    {
     "name": "stdout",
     "output_type": "stream",
     "text": [
      "USD 1,338.10\n",
      "JPY(100엔) 915.22\n",
      "EUR 1,488.77\n",
      "CNY 187.59\n"
     ]
    }
   ],
   "source": [
    "import requests\n",
    "from bs4 import BeautifulSoup\n",
    "url = \"https://finance.naver.com/marketindex/\"\n",
    "res = requests.get(url)\n",
    "\n",
    "data = BeautifulSoup(res.text,\"html.parser\")\n",
    "market1 = data.select_one(\"div.market1\")\n",
    "# 통화\n",
    "exchange = market1.select_one('span.blind')\n",
    "# print(exchange.text)\n",
    "# 환율 지수\n",
    "value = market1.select_one('span.value')\n",
    "# print(value.text)\n",
    "# 모든 환율 검색\n",
    "all_li = market1.select(\"ul.data_lst > li\")\n",
    "# # print(all_li)\n",
    "for li in all_li:\n",
    "  exchange = li.select_one('span.blind')\n",
    "  value = li.select_one('span.value')\n",
    "  # text 대신 string도 가능함 - split(구분기호)은 리스트로 반환\n",
    "  print(exchange.string.split(\" \")[1], value.string)"
   ]
  },
  {
   "cell_type": "code",
   "execution_count": 2,
   "metadata": {},
   "outputs": [
    {
     "name": "stdout",
     "output_type": "stream",
     "text": [
      "USD 1,338.40\n",
      "JPY(100엔) 915.36\n",
      "EUR 1,488.77\n",
      "CNY 187.63\n"
     ]
    }
   ],
   "source": [
    "import requests as req\n",
    "from bs4 import BeautifulSoup\n",
    "url = \"https://finance.naver.com/marketindex/\"\n",
    "res = req.get(url)\n",
    "data = BeautifulSoup(res.text,\"html.parser\")\n",
    "market1 = data.select_one(\"div.market1\")\n",
    "# 통화\n",
    "exchange = market1.select_one(\"span.blind\")\n",
    "# 환율 지수\n",
    "value = market1.select_one('span.value')\n",
    "# print(exchange.text)\n",
    "# print(value.text)\n",
    "# 모든 환율 검색\n",
    "all_li = market1.select(\"ul.data_lst > li\")\n",
    "for li in all_li:\n",
    "    exchange = li.select_one('span.blind')\n",
    "    value = li.select_one('span.value')\n",
    "    # text 대신 string도 가능함 - split(구분기호)은 리스트로 반환\n",
    "    print(exchange.string.split(\" \")[1], value.string)"
   ]
  },
  {
   "cell_type": "code",
   "execution_count": 5,
   "metadata": {},
   "outputs": [
    {
     "name": "stdout",
     "output_type": "stream",
     "text": [
      "[10, 11, 26, 34, 39, 43]\n",
      "[18, 23, 28, 31, 33, 45]\n"
     ]
    }
   ],
   "source": [
    "import random\n",
    "lottos = []\n",
    "while True:\n",
    "    lotto = random.randint(1,45)\n",
    "    if lotto not in lottos:\n",
    "        lottos.append(lotto)\n",
    "    if len(lottos) == 6:\n",
    "        break\n",
    "print(sorted(lottos))\n",
    "\n",
    "lottos2 = []\n",
    "while len(lottos2) < 6  :\n",
    "    a = random.randint(1,45)\n",
    "    if a not in lottos2:\n",
    "        lottos2.append(a)\n",
    "print(sorted(lottos2))"
   ]
  },
  {
   "cell_type": "code",
   "execution_count": null,
   "metadata": {},
   "outputs": [],
   "source": []
  }
 ],
 "metadata": {
  "kernelspec": {
   "display_name": "Python 3",
   "language": "python",
   "name": "python3"
  },
  "language_info": {
   "codemirror_mode": {
    "name": "ipython",
    "version": 3
   },
   "file_extension": ".py",
   "mimetype": "text/x-python",
   "name": "python",
   "nbconvert_exporter": "python",
   "pygments_lexer": "ipython3",
   "version": "3.12.4"
  }
 },
 "nbformat": 4,
 "nbformat_minor": 2
}
