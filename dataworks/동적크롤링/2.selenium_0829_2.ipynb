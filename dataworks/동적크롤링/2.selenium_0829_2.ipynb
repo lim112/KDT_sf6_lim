{
 "cells": [
  {
   "cell_type": "code",
   "execution_count": 4,
   "metadata": {},
   "outputs": [],
   "source": [
    "from selenium import webdriver\n",
    "from selenium.webdriver.chrome.options import Options\n",
    "import time\n",
    "from selenium.webdriver.common.by import By\n",
    "from selenium.webdriver.common.keys import Keys\n",
    "\n",
    "# 브라우저 창 최대화 - options 클래스의 객체를 최대화\n",
    "options = Options()\n",
    "options.add_argument('--start-maximized')\n",
    "\n",
    "driver = webdriver.Chrome(options = options)\n",
    "url = 'https://www.naver.com/'\n",
    "driver.get(url)\n",
    "\n",
    "# 검색어 딥페이크 검색\n",
    "query = driver.find_element(By.ID, 'query')\n",
    "query.send_keys('딥페이크 지도')\n",
    "time.sleep(2)\n",
    "\n",
    "# 검색 엔터 치기(keys클래스 사용) - 입력창에서 엔터치기\n",
    "driver.find_element(By.ID, 'query').\n"
   ]
  }
 ],
 "metadata": {
  "kernelspec": {
   "display_name": "Python 3",
   "language": "python",
   "name": "python3"
  },
  "language_info": {
   "codemirror_mode": {
    "name": "ipython",
    "version": 3
   },
   "file_extension": ".py",
   "mimetype": "text/x-python",
   "name": "python",
   "nbconvert_exporter": "python",
   "pygments_lexer": "ipython3",
   "version": "3.12.4"
  }
 },
 "nbformat": 4,
 "nbformat_minor": 2
}
