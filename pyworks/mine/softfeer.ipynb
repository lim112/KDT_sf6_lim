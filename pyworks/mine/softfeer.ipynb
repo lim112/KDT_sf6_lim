{
 "cells": [
  {
   "cell_type": "code",
   "execution_count": 3,
   "metadata": {},
   "outputs": [
    {
     "name": "stdout",
     "output_type": "stream",
     "text": [
      "술을 3잔 마시다\n",
      "나몸짱 - hp : 100\n",
      "술을 4잔 마시다\n",
      "한잔해 - hp : 100\n"
     ]
    }
   ],
   "source": [
    "class Health:\n",
    "    def __init__(self, name):\n",
    "        self.__name = name\n",
    "        self.__hp__ = 100\n",
    "    def get_name(self):\n",
    "        return  self.__name\n",
    "    def set_hp(self, hp):\n",
    "        if hp < 0:\n",
    "            hp = 0\n",
    "        elif hp > 100:\n",
    "            hp = 100\n",
    "        self.__hp__ = hp\n",
    "    def get_hp(self):\n",
    "        return 'hp : ' + str(self.__hp__)\n",
    "    def exercise(self, hours):\n",
    "        self.set_hp(self.__hp__ + hours )\n",
    "        #print('술을 {}잔 마시다'.format(hours))\n",
    "        print(f'술을 {hours}잔 마시다')\n",
    "        # 두구문은 같은 기능이다\n",
    "    def drink(self, cups):\n",
    "        self.set_hp(self.__hp__ - cups)\n",
    "        print('술을 {}잔 마시다'.format(cups))\n",
    "\n",
    "p1 = Health(\"나몸짱\")\n",
    "p1.set_hp(90)\n",
    "p1.exercise(3)\n",
    "print(f'{p1.get_name()} - {p1.get_hp()}')\n",
    "\n",
    "p1 = Health(\"한잔해\")\n",
    "p1.set_hp(88)\n",
    "p1.exercise(4)\n",
    "print(f'{p1.get_name()} - {p1.get_hp()}')"
   ]
  },
  {
   "cell_type": "code",
   "execution_count": 8,
   "metadata": {},
   "outputs": [
    {
     "ename": "TypeError",
     "evalue": "unsupported operand type(s) for //: 'list' and 'int'",
     "output_type": "error",
     "traceback": [
      "\u001b[1;31m---------------------------------------------------------------------------\u001b[0m",
      "\u001b[1;31mTypeError\u001b[0m                                 Traceback (most recent call last)",
      "Cell \u001b[1;32mIn[8], line 8\u001b[0m\n\u001b[0;32m      6\u001b[0m n\u001b[38;5;241m.\u001b[39mappend(m)\n\u001b[0;32m      7\u001b[0m \u001b[38;5;28;01mif\u001b[39;00m n[i] \u001b[38;5;241m>\u001b[39m\u001b[38;5;241m=\u001b[39m \u001b[38;5;241m5\u001b[39m :\n\u001b[1;32m----> 8\u001b[0m     x \u001b[38;5;241m=\u001b[39m \u001b[43mn\u001b[49m\u001b[38;5;241;43m/\u001b[39;49m\u001b[38;5;241;43m/\u001b[39;49m\u001b[38;5;241;43m5\u001b[39;49m\n\u001b[0;32m      9\u001b[0m     y \u001b[38;5;241m=\u001b[39m n\u001b[38;5;241m%\u001b[39m\u001b[38;5;241m5\u001b[39m\n\u001b[0;32m     10\u001b[0m     \u001b[38;5;28mprint\u001b[39m(\u001b[38;5;124m'\u001b[39m\u001b[38;5;124m+\u001b[39m\u001b[38;5;124m'\u001b[39m\u001b[38;5;241m*\u001b[39mx \u001b[38;5;241m+\u001b[39m \u001b[38;5;124m'\u001b[39m\u001b[38;5;124m+\u001b[39m\u001b[38;5;124m'\u001b[39m\u001b[38;5;241m*\u001b[39my)\n",
      "\u001b[1;31mTypeError\u001b[0m: unsupported operand type(s) for //: 'list' and 'int'"
     ]
    }
   ],
   "source": [
    "import sys\n",
    "user = int(input('몇명?'))\n",
    "n = []\n",
    "for i in range(user):\n",
    "    m = int(input('득표수'))\n",
    "    n.append(m)\n",
    "    if n[i] >= 5 :\n",
    "        x = n//5\n",
    "        y = n%5\n",
    "        print('+'*x + '+'*y)"
   ]
  },
  {
   "cell_type": "code",
   "execution_count": 10,
   "metadata": {},
   "outputs": [
    {
     "ename": "ValueError",
     "evalue": "invalid literal for int() with base 10: ''",
     "output_type": "error",
     "traceback": [
      "\u001b[1;31m---------------------------------------------------------------------------\u001b[0m",
      "\u001b[1;31mValueError\u001b[0m                                Traceback (most recent call last)",
      "Cell \u001b[1;32mIn[10], line 2\u001b[0m\n\u001b[0;32m      1\u001b[0m \u001b[38;5;66;03m# 사용자로부터 후보자의 수를 입력받습니다.\u001b[39;00m\n\u001b[1;32m----> 2\u001b[0m user \u001b[38;5;241m=\u001b[39m \u001b[38;5;28;43mint\u001b[39;49m\u001b[43m(\u001b[49m\u001b[38;5;28;43minput\u001b[39;49m\u001b[43m(\u001b[49m\u001b[38;5;124;43m'\u001b[39;49m\u001b[38;5;124;43m몇명?\u001b[39;49m\u001b[38;5;124;43m'\u001b[39;49m\u001b[43m)\u001b[49m\u001b[43m)\u001b[49m\n\u001b[0;32m      4\u001b[0m \u001b[38;5;66;03m# 후보자들의 득표수를 저장할 리스트\u001b[39;00m\n\u001b[0;32m      5\u001b[0m n \u001b[38;5;241m=\u001b[39m []\n",
      "\u001b[1;31mValueError\u001b[0m: invalid literal for int() with base 10: ''"
     ]
    }
   ],
   "source": [
    "# 사용자로부터 후보자의 수를 입력받습니다.\n",
    "user = int(input('몇명?'))\n",
    "\n",
    "# 후보자들의 득표수를 저장할 리스트\n",
    "n = []\n",
    "\n",
    "# 각 후보자의 득표수를 입력받아 리스트에 추가합니다.\n",
    "for i in range(user):\n",
    "    m = int(input('득표수'))\n",
    "    n.append(m)\n",
    "\n",
    "# 각 후보자의 득표수를 처리하여 개표 결과를 출력합니다.\n",
    "for votes in n:\n",
    "    # 5표 단위로 '+'를 출력하기 위한 계산\n",
    "    num_plus = votes // 5\n",
    "    num_pipes = votes % 5\n",
    "    \n",
    "    # 개표 결과 문자열 생성\n",
    "    plus_str = '++++ ' * num_plus\n",
    "    pipes_str = '|' * num_pipes\n",
    "    \n",
    "    # 결과 문자열을 조합하고 공백을 제거\n",
    "    result_str = (plus_str + pipes_str).strip()\n",
    "    \n",
    "    # 결과를 출력합니다.\n",
    "    print(result_str)\n"
   ]
  },
  {
   "cell_type": "code",
   "execution_count": 22,
   "metadata": {},
   "outputs": [
    {
     "name": "stdout",
     "output_type": "stream",
     "text": [
      "[1, 3, 5, 7, 8]\n",
      "2\n",
      "2\n",
      "2\n",
      "1\n"
     ]
    },
    {
     "ename": "TypeError",
     "evalue": "'int' object is not subscriptable",
     "output_type": "error",
     "traceback": [
      "\u001b[1;31m---------------------------------------------------------------------------\u001b[0m",
      "\u001b[1;31mTypeError\u001b[0m                                 Traceback (most recent call last)",
      "Cell \u001b[1;32mIn[22], line 17\u001b[0m\n\u001b[0;32m     14\u001b[0m \u001b[38;5;28;01mwhile\u001b[39;00m \u001b[38;5;28;01mTrue\u001b[39;00m:\n\u001b[0;32m     15\u001b[0m     no2 \u001b[38;5;241m=\u001b[39m no2\u001b[38;5;241m.\u001b[39mremove(\u001b[38;5;28mmax\u001b[39m(no2))\n\u001b[1;32m---> 17\u001b[0m     \u001b[38;5;28;01mif\u001b[39;00m \u001b[43mn\u001b[49m\u001b[43m[\u001b[49m\u001b[43mj\u001b[49m\u001b[43m]\u001b[49m \u001b[38;5;241m==\u001b[39m n[j\u001b[38;5;241m+\u001b[39m\u001b[38;5;241m1\u001b[39m]:\n\u001b[0;32m     18\u001b[0m         \u001b[38;5;28;01mbreak\u001b[39;00m\n\u001b[0;32m     19\u001b[0m     j \u001b[38;5;241m+\u001b[39m\u001b[38;5;241m=\u001b[39m \u001b[38;5;241m1\u001b[39m\n",
      "\u001b[1;31mTypeError\u001b[0m: 'int' object is not subscriptable"
     ]
    }
   ],
   "source": [
    "town = int(input())\n",
    "towns = []\n",
    "for i in range(town):\n",
    "    n = int(input())\n",
    "    towns.append(n)\n",
    "no2 = []\n",
    "print(towns)\n",
    "for j in range(town-1):\n",
    "    no1 = 0\n",
    "    no1 = abs(towns[j] - towns[j+1])\n",
    "    print(no1)\n",
    "    no2.append(no1)\n",
    "j = 0\n",
    "while True:\n",
    "    no2 = no2.remove(max(no2))\n",
    "    \n",
    "    if n[j] == n[j+1]:\n",
    "        break\n",
    "    j += 1\n",
    "\n",
    "print(len(no2))\n",
    "\n"
   ]
  },
  {
   "cell_type": "code",
   "execution_count": 35,
   "metadata": {},
   "outputs": [
    {
     "name": "stdout",
     "output_type": "stream",
     "text": [
      "1\n"
     ]
    }
   ],
   "source": [
    "town_num = int(input())\n",
    "dist_town = []\n",
    "for num in range(town_num):\n",
    "    town = int(input())\n",
    "    dist_town.append(town)\n",
    "\n",
    "distance = 100\n",
    "total = 0\n",
    "for i in range(town_num-1):\n",
    "    for j in range(i+1, town_num):\n",
    "        if distance > abs(dist_town[j]- dist_town[i]):\n",
    "            distance = abs(dist_town[j]- dist_town[i])\n",
    "            total = 1\n",
    "        elif distance == abs(dist_town[j]- dist_town[i]):\n",
    "            total += 1\n",
    "\n",
    "print(total)"
   ]
  },
  {
   "cell_type": "code",
   "execution_count": 38,
   "metadata": {},
   "outputs": [
    {
     "name": "stdout",
     "output_type": "stream",
     "text": [
      "1\n"
     ]
    }
   ],
   "source": [
    "town_num = int(input())\n",
    "dist_town = list(map(int, input().split(' ')))\n",
    "\n",
    "distance = 100\n",
    "total = 0\n",
    "for i in range(town_num-1):\n",
    "    for j in range(i+1, town_num):\n",
    "        if distance > abs(dist_town[j]- dist_town[i]):\n",
    "            distance = abs(dist_town[j]- dist_town[i])\n",
    "            total = 1\n",
    "        elif distance == abs(dist_town[j]- dist_town[i]):\n",
    "            total += 1\n",
    "\n",
    "print(total)"
   ]
  }
 ],
 "metadata": {
  "kernelspec": {
   "display_name": "Python 3",
   "language": "python",
   "name": "python3"
  },
  "language_info": {
   "codemirror_mode": {
    "name": "ipython",
    "version": 3
   },
   "file_extension": ".py",
   "mimetype": "text/x-python",
   "name": "python",
   "nbconvert_exporter": "python",
   "pygments_lexer": "ipython3",
   "version": "3.12.4"
  }
 },
 "nbformat": 4,
 "nbformat_minor": 2
}
