{
 "cells": [
  {
   "cell_type": "code",
   "execution_count": 2,
   "metadata": {},
   "outputs": [
    {
     "name": "stdout",
     "output_type": "stream",
     "text": [
      "1.5\n",
      "2.5\n"
     ]
    }
   ],
   "source": [
    "#매개 변수의 입력 없이 정해지지 않으면 변수 이름 앞에 *를 붙힌다\n",
    "def calc_avg(numbers):\n",
    "    sum_v = 0\n",
    "    for i in numbers:\n",
    "        sum_v += i\n",
    "    return sum_v / len(numbers)\n",
    "\n",
    "avg1 = calc_avg([1,2])\n",
    "print(avg1)\n",
    "\n",
    "avg2 = calc_avg([1,2,3,4])\n",
    "#numebrs 의 리스트 안에 숫자들이 있다고 생각하면 될 듯, 다만 numbers를 프린트하면 안나타남\n",
    "print(avg2)"
   ]
  },
  {
   "cell_type": "code",
   "execution_count": 3,
   "metadata": {},
   "outputs": [
    {
     "name": "stdout",
     "output_type": "stream",
     "text": [
      "hello python!!\n",
      "너무 더워!!\n",
      "19\n",
      "\n",
      "<class 'str'>\n"
     ]
    }
   ],
   "source": [
    "# 파일 열기(open()) > 쓰기(read()) > 종료(close())\n",
    "\n",
    "f = open('C:/pyfile/file.txt', 'r')\n",
    "\t\t\t\t\t\t\t\t#'r'읽기\n",
    "print(f.read())\n",
    "# read()안에 숫자를 적으면 해당 숫자 번째까지 반환\n",
    "print(type(f.read()))"
   ]
  },
  {
   "cell_type": "code",
   "execution_count": 4,
   "metadata": {},
   "outputs": [
    {
     "ename": "FileNotFoundError",
     "evalue": "[Errno 2] No such file or directory: './output/dada.bin'",
     "output_type": "error",
     "traceback": [
      "\u001b[1;31m---------------------------------------------------------------------------\u001b[0m",
      "\u001b[1;31mFileNotFoundError\u001b[0m                         Traceback (most recent call last)",
      "Cell \u001b[1;32mIn[4], line 5\u001b[0m\n\u001b[0;32m      1\u001b[0m \u001b[38;5;66;03m# mode : 쓰기('wb'), 읽기('rb')\u001b[39;00m\n\u001b[0;32m      2\u001b[0m \u001b[38;5;66;03m# 바이너리 기계어(0,1)로 변환하는 함수 -> encode()\u001b[39;00m\n\u001b[0;32m      3\u001b[0m \u001b[38;5;66;03m# 기계어를 문자로 변환하는 함수 -> decode()\u001b[39;00m\n\u001b[1;32m----> 5\u001b[0m \u001b[38;5;28;01mwith\u001b[39;00m \u001b[38;5;28;43mopen\u001b[39;49m\u001b[43m(\u001b[49m\u001b[38;5;124;43m'\u001b[39;49m\u001b[38;5;124;43m./output/dada.bin\u001b[39;49m\u001b[38;5;124;43m'\u001b[39;49m\u001b[43m,\u001b[49m\u001b[43m \u001b[49m\u001b[38;5;124;43m'\u001b[39;49m\u001b[38;5;124;43mwb\u001b[39;49m\u001b[38;5;124;43m'\u001b[39;49m\u001b[43m)\u001b[49m \u001b[38;5;28;01mas\u001b[39;00m f:\n\u001b[0;32m      6\u001b[0m     txt \u001b[38;5;241m=\u001b[39m \u001b[38;5;124m'\u001b[39m\u001b[38;5;124m드론이 날아간다\u001b[39m\u001b[38;5;124m'\u001b[39m\n\u001b[0;32m      7\u001b[0m     \u001b[38;5;66;03m# f.write(txt)  # TypeError str > object\u001b[39;00m\n",
      "File \u001b[1;32m~\\AppData\\Roaming\\Python\\Python312\\site-packages\\IPython\\core\\interactiveshell.py:324\u001b[0m, in \u001b[0;36m_modified_open\u001b[1;34m(file, *args, **kwargs)\u001b[0m\n\u001b[0;32m    317\u001b[0m \u001b[38;5;28;01mif\u001b[39;00m file \u001b[38;5;129;01min\u001b[39;00m {\u001b[38;5;241m0\u001b[39m, \u001b[38;5;241m1\u001b[39m, \u001b[38;5;241m2\u001b[39m}:\n\u001b[0;32m    318\u001b[0m     \u001b[38;5;28;01mraise\u001b[39;00m \u001b[38;5;167;01mValueError\u001b[39;00m(\n\u001b[0;32m    319\u001b[0m         \u001b[38;5;124mf\u001b[39m\u001b[38;5;124m\"\u001b[39m\u001b[38;5;124mIPython won\u001b[39m\u001b[38;5;124m'\u001b[39m\u001b[38;5;124mt let you open fd=\u001b[39m\u001b[38;5;132;01m{\u001b[39;00mfile\u001b[38;5;132;01m}\u001b[39;00m\u001b[38;5;124m by default \u001b[39m\u001b[38;5;124m\"\u001b[39m\n\u001b[0;32m    320\u001b[0m         \u001b[38;5;124m\"\u001b[39m\u001b[38;5;124mas it is likely to crash IPython. If you know what you are doing, \u001b[39m\u001b[38;5;124m\"\u001b[39m\n\u001b[0;32m    321\u001b[0m         \u001b[38;5;124m\"\u001b[39m\u001b[38;5;124myou can use builtins\u001b[39m\u001b[38;5;124m'\u001b[39m\u001b[38;5;124m open.\u001b[39m\u001b[38;5;124m\"\u001b[39m\n\u001b[0;32m    322\u001b[0m     )\n\u001b[1;32m--> 324\u001b[0m \u001b[38;5;28;01mreturn\u001b[39;00m \u001b[43mio_open\u001b[49m\u001b[43m(\u001b[49m\u001b[43mfile\u001b[49m\u001b[43m,\u001b[49m\u001b[43m \u001b[49m\u001b[38;5;241;43m*\u001b[39;49m\u001b[43margs\u001b[49m\u001b[43m,\u001b[49m\u001b[43m \u001b[49m\u001b[38;5;241;43m*\u001b[39;49m\u001b[38;5;241;43m*\u001b[39;49m\u001b[43mkwargs\u001b[49m\u001b[43m)\u001b[49m\n",
      "\u001b[1;31mFileNotFoundError\u001b[0m: [Errno 2] No such file or directory: './output/dada.bin'"
     ]
    }
   ],
   "source": [
    "# mode : 쓰기('wb'), 읽기('rb')\n",
    "# 바이너리 기계어(0,1)로 변환하는 함수 -> encode()\n",
    "# 기계어를 문자로 변환하는 함수 -> decode()\n",
    "\n",
    "with open('./output/dada.bin', 'wb') as f:\n",
    "    txt = '드론이 날아간다'\n",
    "    # f.write(txt)  # TypeError str > object\n",
    "    f.write((txt.encode())) # ./output/dada.bin에 '드론이 날아간다'\n",
    "                # 암호화 되어 저장\n",
    "\n",
    "with open('./output/dada.bin', 'rb') as f2:\n",
    "    data = f2.read() # 16진수로 변환되어 저장\n",
    "    print(data.decode())"
   ]
  }
 ],
 "metadata": {
  "kernelspec": {
   "display_name": "Python 3",
   "language": "python",
   "name": "python3"
  },
  "language_info": {
   "codemirror_mode": {
    "name": "ipython",
    "version": 3
   },
   "file_extension": ".py",
   "mimetype": "text/x-python",
   "name": "python",
   "nbconvert_exporter": "python",
   "pygments_lexer": "ipython3",
   "version": "3.12.4"
  }
 },
 "nbformat": 4,
 "nbformat_minor": 2
}
