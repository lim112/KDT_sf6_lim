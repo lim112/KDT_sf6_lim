{
 "cells": [
  {
   "cell_type": "code",
   "execution_count": 4,
   "metadata": {},
   "outputs": [
    {
     "name": "stdout",
     "output_type": "stream",
     "text": [
      "1\n"
     ]
    }
   ],
   "source": [
    "town_num = int(input())\n",
    "dist = input().split(' ')\n",
    "dist_town = []\n",
    "count = 0\n",
    "for i in dist:\n",
    "    if i:\n",
    "        dist_town.append(int(i))\n",
    "\n",
    "distance = 100\n",
    "total = 0\n",
    "for i in range(town_num-1):\n",
    "    for j in range(i+1, town_num):\n",
    "        if distance > abs(dist_town[j]- dist_town[i]):\n",
    "            distance = abs(dist_town[j]- dist_town[i])\n",
    "            total = 1\n",
    "        elif distance == abs(dist_town[j]- dist_town[i]):\n",
    "            total += 1\n",
    "\n",
    "print(total)"
   ]
  },
  {
   "cell_type": "code",
   "execution_count": 10,
   "metadata": {},
   "outputs": [
    {
     "name": "stdout",
     "output_type": "stream",
     "text": [
      "술을 3잔 마시다\n",
      "나몸짱 - hp : 100\n",
      "술을 4잔 마시다\n",
      "한잔해 - hp : 100\n"
     ]
    }
   ],
   "source": [
    "class Health:\n",
    "    def __init__(self, name):\n",
    "        self.__name = name\n",
    "        self.__hp__ = 100\n",
    "    def get_name(self):\n",
    "        return  self.__name\n",
    "    def set_hp(self, hp):\n",
    "        if hp < 0:\n",
    "            hp = 0\n",
    "        elif hp > 100:\n",
    "            hp = 100\n",
    "        # self.__hp__ = hp\n",
    "    def get_hp(self):\n",
    "        return 'hp : ' + str(self.__hp__)\n",
    "    def exercise(self, hours):\n",
    "        self.set_hp(self.__hp__ + hours )\n",
    "        #print('술을 {}잔 마시다'.format(hours))\n",
    "        print(f'술을 {hours}잔 마시다')\n",
    "        # 두구문은 같은 기능이다\n",
    "    def drink(self, cups):\n",
    "        self.set_hp(self.__hp__ - cups)\n",
    "        print('술을 {}잔 마시다'.format(cups))\n",
    "\n",
    "p1 = Health(\"나몸짱\")\n",
    "p1.set_hp(90)\n",
    "p1.exercise(3)\n",
    "print(f'{p1.get_name()} - {p1.get_hp()}')\n",
    "\n",
    "p1 = Health(\"한잔해\")\n",
    "p1.set_hp(88)\n",
    "p1.exercise(4)\n",
    "print(f'{p1.get_name()} - {p1.get_hp()}')"
   ]
  },
  {
   "cell_type": "code",
   "execution_count": 3,
   "metadata": {},
   "outputs": [
    {
     "name": "stdout",
     "output_type": "stream",
     "text": [
      "1 2 3 4 5 6 7 8 9 10 끝\n",
      "{'__name__': '__main__', '__doc__': 'Automatically created module for IPython interactive environment', '__package__': None, '__loader__': None, '__spec__': None, '__builtin__': <module 'builtins' (built-in)>, '__builtins__': <module 'builtins' (built-in)>, '_ih': ['', '#1부터 10까지 출력\\ncount = 0\\nwhile True:\\n    count += 1\\n    print(count, end= \" \") \\n    #줄 바꿈하지않고 이어서 작성\\n    if count > 9:\\n        break # count 가 9 초과하면\\nprint(\"끝\")', \"# 비행기\\nclass Airplane:\\n    def __init__(self): # 기본 생성자, init 메서드를 생략해도 기본적으로 작동 함\\n        print('비행기의 클래스가 생성되었습니다')\\n    def take_off(self):\\n        print('비행기가 이륙합니다')\\n    def fry(self):\\n        print('비행기가 일반 비행합니다')\\n\\n    def land(self):\\n        print('비행기가 착륙합니다')\\n\\nair1 = Airplane() #비행기의 클래스가 생성되었습니다\\nair1.take_off() #비행기가 이륙합니다\\nair1.fry() #비행기가 일반 비행합니다\\nair1.land() #비행기가 착륙합니다\\n\\n# 초음속 비행기\\nclass SuperSonicAirplane(Airplane):\\n    # 1 - nomal, 2 - supersonic\\n    NORMAL = 1 # 클래스 상수 ( 대문자 관례 )\\n    SUPERSONIC = 2\\n\\n    # 맴버 변수 선언 - 비행 모드\\n    def __init__(self):\\n        self.fry_mode = SuperSonicAirplane.NORMAL \\n        # 초기 설정\\n\\n    def fry(self):\\n        if self.fry_mode == SuperSonicAirplane.SUPERSONIC: \\n        # 설정 변경\\n            print('비행기가 초음속 비행합니다')\\n        else:\\n            super().fry() # 메서드 상속때도 super()\\n\\n            #print('비행기가 일반 비행합니다')\\n\\nf22 = SuperSonicAirplane() \\n\\n# 객체(인스턴스) 생성\\nf22.take_off() #비행기가 이륙합니다\\nf22.fry() #비행기가 일반 비행합니다\\nf22.fry_mode = SuperSonicAirplane.SUPERSONIC\\nf22.fry() #비행기가 초음속 비행합니다\\nf22.land() #비행기가 착륙합니다\", '#1부터 10까지 출력\\ncount = 0\\nwhile True:\\n    count += 1\\n    print(count, end= \" \") \\n    #줄 바꿈하지않고 이어서 작성\\n    c = 1\\n    if count > 9:\\n        break # count 가 9 초과하면\\nprint(\"끝\")\\nprint(globals())'], '_oh': {}, '_dh': [WindowsPath('c:/KDT_SF6/pyworks/mine')], 'In': ['', '#1부터 10까지 출력\\ncount = 0\\nwhile True:\\n    count += 1\\n    print(count, end= \" \") \\n    #줄 바꿈하지않고 이어서 작성\\n    if count > 9:\\n        break # count 가 9 초과하면\\nprint(\"끝\")', \"# 비행기\\nclass Airplane:\\n    def __init__(self): # 기본 생성자, init 메서드를 생략해도 기본적으로 작동 함\\n        print('비행기의 클래스가 생성되었습니다')\\n    def take_off(self):\\n        print('비행기가 이륙합니다')\\n    def fry(self):\\n        print('비행기가 일반 비행합니다')\\n\\n    def land(self):\\n        print('비행기가 착륙합니다')\\n\\nair1 = Airplane() #비행기의 클래스가 생성되었습니다\\nair1.take_off() #비행기가 이륙합니다\\nair1.fry() #비행기가 일반 비행합니다\\nair1.land() #비행기가 착륙합니다\\n\\n# 초음속 비행기\\nclass SuperSonicAirplane(Airplane):\\n    # 1 - nomal, 2 - supersonic\\n    NORMAL = 1 # 클래스 상수 ( 대문자 관례 )\\n    SUPERSONIC = 2\\n\\n    # 맴버 변수 선언 - 비행 모드\\n    def __init__(self):\\n        self.fry_mode = SuperSonicAirplane.NORMAL \\n        # 초기 설정\\n\\n    def fry(self):\\n        if self.fry_mode == SuperSonicAirplane.SUPERSONIC: \\n        # 설정 변경\\n            print('비행기가 초음속 비행합니다')\\n        else:\\n            super().fry() # 메서드 상속때도 super()\\n\\n            #print('비행기가 일반 비행합니다')\\n\\nf22 = SuperSonicAirplane() \\n\\n# 객체(인스턴스) 생성\\nf22.take_off() #비행기가 이륙합니다\\nf22.fry() #비행기가 일반 비행합니다\\nf22.fry_mode = SuperSonicAirplane.SUPERSONIC\\nf22.fry() #비행기가 초음속 비행합니다\\nf22.land() #비행기가 착륙합니다\", '#1부터 10까지 출력\\ncount = 0\\nwhile True:\\n    count += 1\\n    print(count, end= \" \") \\n    #줄 바꿈하지않고 이어서 작성\\n    c = 1\\n    if count > 9:\\n        break # count 가 9 초과하면\\nprint(\"끝\")\\nprint(globals())'], 'Out': {}, 'get_ipython': <bound method InteractiveShell.get_ipython of <ipykernel.zmqshell.ZMQInteractiveShell object at 0x0000020DDB44F680>>, 'exit': <IPython.core.autocall.ZMQExitAutocall object at 0x0000020DDB4B0200>, 'quit': <IPython.core.autocall.ZMQExitAutocall object at 0x0000020DDB4B0200>, 'open': <function open at 0x0000020DD960C9A0>, '_': '', '__': '', '___': '', '__vsc_ipynb_file__': 'c:\\\\KDT_SF6\\\\pyworks\\\\mine\\\\korail.ipynb', '_i': \"# 비행기\\nclass Airplane:\\n    def __init__(self): # 기본 생성자, init 메서드를 생략해도 기본적으로 작동 함\\n        print('비행기의 클래스가 생성되었습니다')\\n    def take_off(self):\\n        print('비행기가 이륙합니다')\\n    def fry(self):\\n        print('비행기가 일반 비행합니다')\\n\\n    def land(self):\\n        print('비행기가 착륙합니다')\\n\\nair1 = Airplane() #비행기의 클래스가 생성되었습니다\\nair1.take_off() #비행기가 이륙합니다\\nair1.fry() #비행기가 일반 비행합니다\\nair1.land() #비행기가 착륙합니다\\n\\n# 초음속 비행기\\nclass SuperSonicAirplane(Airplane):\\n    # 1 - nomal, 2 - supersonic\\n    NORMAL = 1 # 클래스 상수 ( 대문자 관례 )\\n    SUPERSONIC = 2\\n\\n    # 맴버 변수 선언 - 비행 모드\\n    def __init__(self):\\n        self.fry_mode = SuperSonicAirplane.NORMAL \\n        # 초기 설정\\n\\n    def fry(self):\\n        if self.fry_mode == SuperSonicAirplane.SUPERSONIC: \\n        # 설정 변경\\n            print('비행기가 초음속 비행합니다')\\n        else:\\n            super().fry() # 메서드 상속때도 super()\\n\\n            #print('비행기가 일반 비행합니다')\\n\\nf22 = SuperSonicAirplane() \\n\\n# 객체(인스턴스) 생성\\nf22.take_off() #비행기가 이륙합니다\\nf22.fry() #비행기가 일반 비행합니다\\nf22.fry_mode = SuperSonicAirplane.SUPERSONIC\\nf22.fry() #비행기가 초음속 비행합니다\\nf22.land() #비행기가 착륙합니다\", '_ii': '#1부터 10까지 출력\\ncount = 0\\nwhile True:\\n    count += 1\\n    print(count, end= \" \") \\n    #줄 바꿈하지않고 이어서 작성\\n    if count > 9:\\n        break # count 가 9 초과하면\\nprint(\"끝\")', '_iii': '', '_i1': '#1부터 10까지 출력\\ncount = 0\\nwhile True:\\n    count += 1\\n    print(count, end= \" \") \\n    #줄 바꿈하지않고 이어서 작성\\n    if count > 9:\\n        break # count 가 9 초과하면\\nprint(\"끝\")', 'count': 10, '_i2': \"# 비행기\\nclass Airplane:\\n    def __init__(self): # 기본 생성자, init 메서드를 생략해도 기본적으로 작동 함\\n        print('비행기의 클래스가 생성되었습니다')\\n    def take_off(self):\\n        print('비행기가 이륙합니다')\\n    def fry(self):\\n        print('비행기가 일반 비행합니다')\\n\\n    def land(self):\\n        print('비행기가 착륙합니다')\\n\\nair1 = Airplane() #비행기의 클래스가 생성되었습니다\\nair1.take_off() #비행기가 이륙합니다\\nair1.fry() #비행기가 일반 비행합니다\\nair1.land() #비행기가 착륙합니다\\n\\n# 초음속 비행기\\nclass SuperSonicAirplane(Airplane):\\n    # 1 - nomal, 2 - supersonic\\n    NORMAL = 1 # 클래스 상수 ( 대문자 관례 )\\n    SUPERSONIC = 2\\n\\n    # 맴버 변수 선언 - 비행 모드\\n    def __init__(self):\\n        self.fry_mode = SuperSonicAirplane.NORMAL \\n        # 초기 설정\\n\\n    def fry(self):\\n        if self.fry_mode == SuperSonicAirplane.SUPERSONIC: \\n        # 설정 변경\\n            print('비행기가 초음속 비행합니다')\\n        else:\\n            super().fry() # 메서드 상속때도 super()\\n\\n            #print('비행기가 일반 비행합니다')\\n\\nf22 = SuperSonicAirplane() \\n\\n# 객체(인스턴스) 생성\\nf22.take_off() #비행기가 이륙합니다\\nf22.fry() #비행기가 일반 비행합니다\\nf22.fry_mode = SuperSonicAirplane.SUPERSONIC\\nf22.fry() #비행기가 초음속 비행합니다\\nf22.land() #비행기가 착륙합니다\", 'Airplane': <class '__main__.Airplane'>, 'air1': <__main__.Airplane object at 0x0000020DDB479C10>, 'SuperSonicAirplane': <class '__main__.SuperSonicAirplane'>, 'f22': <__main__.SuperSonicAirplane object at 0x0000020DDB4E0500>, '_i3': '#1부터 10까지 출력\\ncount = 0\\nwhile True:\\n    count += 1\\n    print(count, end= \" \") \\n    #줄 바꿈하지않고 이어서 작성\\n    c = 1\\n    if count > 9:\\n        break # count 가 9 초과하면\\nprint(\"끝\")\\nprint(globals())', 'c': 1}\n"
     ]
    }
   ],
   "source": [
    "#1부터 10까지 출력\n",
    "count = 0\n",
    "while True:\n",
    "    count += 1\n",
    "    print(count, end= \" \") \n",
    "    #줄 바꿈하지않고 이어서 작성\n",
    "    c = 1\n",
    "    if count > 9:\n",
    "        break # count 가 9 초과하면\n",
    "print(\"끝\")\n",
    "print(globals())"
   ]
  },
  {
   "cell_type": "code",
   "execution_count": 2,
   "metadata": {},
   "outputs": [
    {
     "name": "stdout",
     "output_type": "stream",
     "text": [
      "비행기의 클래스가 생성되었습니다\n",
      "비행기가 이륙합니다\n",
      "비행기가 일반 비행합니다\n",
      "비행기가 착륙합니다\n",
      "비행기가 이륙합니다\n",
      "비행기가 일반 비행합니다\n",
      "비행기가 초음속 비행합니다\n",
      "비행기가 착륙합니다\n"
     ]
    }
   ],
   "source": [
    "# 비행기\n",
    "class Airplane:\n",
    "    def __init__(self): # 기본 생성자, init 메서드를 생략해도 기본적으로 작동 함\n",
    "        print('비행기의 클래스가 생성되었습니다')\n",
    "    def take_off(self):\n",
    "        print('비행기가 이륙합니다')\n",
    "    def fry(self):\n",
    "        print('비행기가 일반 비행합니다')\n",
    "\n",
    "    def land(self):\n",
    "        print('비행기가 착륙합니다')\n",
    "\n",
    "air1 = Airplane() #비행기의 클래스가 생성되었습니다\n",
    "air1.take_off() #비행기가 이륙합니다\n",
    "air1.fry() #비행기가 일반 비행합니다\n",
    "air1.land() #비행기가 착륙합니다\n",
    "\n",
    "# 초음속 비행기\n",
    "class SuperSonicAirplane(Airplane):\n",
    "    # 1 - nomal, 2 - supersonic\n",
    "    NORMAL = 1 # 클래스 상수 ( 대문자 관례 )\n",
    "    SUPERSONIC = 2\n",
    "\n",
    "    # 맴버 변수 선언 - 비행 모드\n",
    "    def __init__(self):\n",
    "        self.fry_mode = SuperSonicAirplane.NORMAL \n",
    "        # 초기 설정\n",
    "\n",
    "    def fry(self):\n",
    "        if self.fry_mode == SuperSonicAirplane.SUPERSONIC: \n",
    "        # 설정 변경\n",
    "            print('비행기가 초음속 비행합니다')\n",
    "        else:\n",
    "            super().fry() # 메서드 상속때도 super()\n",
    "\n",
    "            #print('비행기가 일반 비행합니다')\n",
    "\n",
    "f22 = SuperSonicAirplane() \n",
    "\n",
    "# 객체(인스턴스) 생성\n",
    "f22.take_off() #비행기가 이륙합니다\n",
    "f22.fry() #비행기가 일반 비행합니다\n",
    "f22.fry_mode = SuperSonicAirplane.SUPERSONIC\n",
    "f22.fry() #비행기가 초음속 비행합니다\n",
    "f22.land() #비행기가 착륙합니다"
   ]
  }
 ],
 "metadata": {
  "kernelspec": {
   "display_name": "Python 3",
   "language": "python",
   "name": "python3"
  },
  "language_info": {
   "codemirror_mode": {
    "name": "ipython",
    "version": 3
   },
   "file_extension": ".py",
   "mimetype": "text/x-python",
   "name": "python",
   "nbconvert_exporter": "python",
   "pygments_lexer": "ipython3",
   "version": "3.12.4"
  }
 },
 "nbformat": 4,
 "nbformat_minor": 2
}
