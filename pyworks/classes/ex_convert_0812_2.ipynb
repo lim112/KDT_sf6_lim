{
 "cells": [
  {
   "cell_type": "code",
   "execution_count": 1,
   "metadata": {},
   "outputs": [
    {
     "name": "stdout",
     "output_type": "stream",
     "text": [
      "MB, KB, 1024\n",
      "1MB를 변환하기\n",
      "2MB = 2048KB\n",
      "2inch = 50.8mm\n",
      "inch, mm, 25.4\n",
      "C, f, 1.8, 32\n",
      "33C = 91.4f\n"
     ]
    }
   ],
   "source": [
    "from class_scale_converter_0812_1 import ScaleConverter\n",
    "class Converter(ScaleConverter):\n",
    "    # 자식 클래스(부모 클래스):\n",
    "    def __init__(self, units_from, units_to, factor, offset):\n",
    "        self.offset = offset\n",
    "        # 자식의 맴버 변수\n",
    "        super().__init__(units_from, units_to, factor)\n",
    "        # 부모의 맴버 변수\n",
    "    def __str__(self):\n",
    "    #   return f'{super().__str__()}, {self.offset}'\n",
    "    #   다른 방식\n",
    "        return f'{self.units_from}, {self.units_to}, {self.factor}, {self.offset}'\n",
    "    def convert(self, value):\n",
    "        return value * self.factor + self.offset\n",
    "\n",
    "con = Converter('C','f',1.8, 32)\n",
    "print(con)\n",
    "print(f'33{con.units_from} = {con.convert(33)}{con.units_to}')"
   ]
  }
 ],
 "metadata": {
  "kernelspec": {
   "display_name": "base",
   "language": "python",
   "name": "python3"
  },
  "language_info": {
   "codemirror_mode": {
    "name": "ipython",
    "version": 3
   },
   "file_extension": ".py",
   "mimetype": "text/x-python",
   "name": "python",
   "nbconvert_exporter": "python",
   "pygments_lexer": "ipython3",
   "version": "3.12.4"
  }
 },
 "nbformat": 4,
 "nbformat_minor": 2
}
