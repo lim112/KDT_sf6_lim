{
 "cells": [
  {
   "cell_type": "code",
   "execution_count": 4,
   "metadata": {},
   "outputs": [
    {
     "data": {
      "text/plain": [
       "75"
      ]
     },
     "execution_count": 4,
     "metadata": {},
     "output_type": "execute_result"
    }
   ],
   "source": [
    "# 사용자가 작성한 문장\n",
    "user_text = '''i read about Derar Qadish saying \n",
    "he is working humanitarian orgonization \n",
    "he has many hobbies, but english learning is the most important thing for him\n",
    "he wants to be good at english \n",
    "His other hobby is helping vulnerable people, so he joined a humanitarian organization. I just want to be as thoughtful as he is\n",
    "I also think the same, I want a peaceful world, so I donate to the UN Refugee Agency thank you for read\n",
    "'''\n",
    "# 단어 수 세기\n",
    "word_count = len(user_text.split(' '))\n",
    "word_count\n"
   ]
  }
 ],
 "metadata": {
  "kernelspec": {
   "display_name": "Python 3",
   "language": "python",
   "name": "python3"
  },
  "language_info": {
   "codemirror_mode": {
    "name": "ipython",
    "version": 3
   },
   "file_extension": ".py",
   "mimetype": "text/x-python",
   "name": "python",
   "nbconvert_exporter": "python",
   "pygments_lexer": "ipython3",
   "version": "3.12.4"
  }
 },
 "nbformat": 4,
 "nbformat_minor": 2
}
