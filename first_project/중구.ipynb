{
 "cells": [
  {
   "cell_type": "code",
   "execution_count": 4,
   "metadata": {},
   "outputs": [],
   "source": [
    "import csv\n",
    "import pandas as pd\n",
    "# data = pd.read_excel('seoul_culture_place.xlsx')\n",
    "# for row in data:\n",
    "#     if '중구' in row['문화시설주소'] :\n",
    "import pandas as pd\n",
    "\n",
    "# Excel 파일 읽어오기\n",
    "data = pd.read_excel('seou.xlsx')\n",
    "\n",
    "# '중구'가 포함된 행만 필터링하여 새로운 데이터프레임 생성\n",
    "junggu_data = data[data['문화시설주소'].str.contains('성북구', na=False)]\n",
    "\n",
    "# 새로운 Excel 파일로 저장\n",
    "junggu_data.to_excel(f'filtered_data_성북.xlsx', index=False)\n"
   ]
  }
 ],
 "metadata": {
  "kernelspec": {
   "display_name": "Python 3",
   "language": "python",
   "name": "python3"
  },
  "language_info": {
   "codemirror_mode": {
    "name": "ipython",
    "version": 3
   },
   "file_extension": ".py",
   "mimetype": "text/x-python",
   "name": "python",
   "nbconvert_exporter": "python",
   "pygments_lexer": "ipython3",
   "version": "3.12.4"
  }
 },
 "nbformat": 4,
 "nbformat_minor": 2
}
