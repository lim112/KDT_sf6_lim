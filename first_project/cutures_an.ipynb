{
 "cells": [
  {
   "cell_type": "code",
   "execution_count": 2,
   "metadata": {},
   "outputs": [
    {
     "name": "stdout",
     "output_type": "stream",
     "text": [
      "0\n",
      "0\n"
     ]
    }
   ],
   "source": [
    "gangnam = [{\"문화회관\" : 0}, {\"도서관\" : 0}, {\"박물관\" : 0}, {\"기타\" : 0}, {\"공원장\" : 0}, {\"미술관\" : 0}, {\"문화원\" : 0}]\n",
    "print(gangnam[0][\"문화회관\"])\n",
    "gangdong = [{\"문화회관\" : 0}, {\"도서관\" : 0}, {\"박물관\" : 0}, {\"기타\" : 0}, {\"공원장\" : 0}, {\"미술관\" : 0}, {\"문화원\" : 0}]\n",
    "gangbuk = [{\"문화회관\" : 0}, {\"도서관\" : 0}, {\"박물관\" : 0}, {\"기타\" : 0}, {\"공원장\" : 0}, {\"미술관\" : 0}, {\"문화원\" : 0}]\n",
    "gangseo = [{\"문화회관\" : 0}, {\"도서관\" : 0}, {\"박물관\" : 0}, {\"기타\" : 0}, {\"공원장\" : 0}, {\"미술관\" : 0}, {\"문화원\" : 0}]\n",
    "gwanak = [{\"문화회관\" : 0}, {\"도서관\" : 0}, {\"박물관\" : 0}, {\"기타\" : 0}, {\"공원장\" : 0}, {\"미술관\" : 0}, {\"문화원\" : 0}]\n",
    "guro = [{\"문화회관\" : 0}, {\"도서관\" : 0}, {\"박물관\" : 0}, {\"기타\" : 0}, {\"공원장\" : 0}, {\"미술관\" : 0}, {\"문화원\" : 0}]\n",
    "gwangjin = [{\"문화회관\" : 0}, {\"도서관\" : 0}, {\"박물관\" : 0}, {\"기타\" : 0}, {\"공원장\" : 0}, {\"미술관\" : 0}, {\"문화원\" : 0}]\n",
    "geumcheon = [{\"문화회관\" : 0}, {\"도서관\" : 0}, {\"박물관\" : 0}, {\"기타\" : 0}, {\"공원장\" : 0}, {\"미술관\" : 0}, {\"문화원\" : 0}]\n",
    "nowon = [{\"문화회관\" : 0}, {\"도서관\" : 0}, {\"박물관\" : 0}, {\"기타\" : 0}, {\"공원장\" : 0}, {\"미술관\" : 0}, {\"문화원\" : 0}]\n",
    "dobong = [{\"문화회관\" : 0}, {\"도서관\" : 0}, {\"박물관\" : 0}, {\"기타\" : 0}, {\"공원장\" : 0}, {\"미술관\" : 0}, {\"문화원\" : 0}]\n",
    "dongdaemun = [{\"문화회관\" : 0}, {\"도서관\" : 0}, {\"박물관\" : 0}, {\"기타\" : 0}, {\"공원장\" : 0}, {\"미술관\" : 0}, {\"문화원\" : 0}]\n",
    "dongjak = [{\"문화회관\" : 0}, {\"도서관\" : 0}, {\"박물관\" : 0}, {\"기타\" : 0}, {\"공원장\" : 0}, {\"미술관\" : 0}, {\"문화원\" : 0}]\n",
    "mapo = [{\"문화회관\" : 0}, {\"도서관\" : 0}, {\"박물관\" : 0}, {\"기타\" : 0}, {\"공원장\" : 0}, {\"미술관\" : 0}, {\"문화원\" : 0}]\n",
    "seodaemun = [{\"문화회관\" : 0}, {\"도서관\" : 0}, {\"박물관\" : 0}, {\"기타\" : 0}, {\"공원장\" : 0}, {\"미술관\" : 0}, {\"문화원\" : 0}]\n",
    "seocho = [{\"문화회관\" : 0}, {\"도서관\" : 0}, {\"박물관\" : 0}, {\"기타\" : 0}, {\"공원장\" : 0}, {\"미술관\" : 0}, {\"문화원\" : 0}]\n",
    "seongdong = [{\"문화회관\" : 0}, {\"도서관\" : 0}, {\"박물관\" : 0}, {\"기타\" : 0}, {\"공원장\" : 0}, {\"미술관\" : 0}, {\"문화원\" : 0}]\n",
    "seongbuk = [{\"문화회관\" : 0}, {\"도서관\" : 0}, {\"박물관\" : 0}, {\"기타\" : 0}, {\"공원장\" : 0}, {\"미술관\" : 0}, {\"문화원\" : 0}]\n",
    "songpa = [{\"문화회관\" : 0}, {\"도서관\" : 0}, {\"박물관\" : 0}, {\"기타\" : 0}, {\"공원장\" : 0}, {\"미술관\" : 0}, {\"문화원\" : 0}]\n",
    "yangcheon = [{\"문화회관\" : 0}, {\"도서관\" : 0}, {\"박물관\" : 0}, {\"기타\" : 0}, {\"공원장\" : 0}, {\"미술관\" : 0}, {\"문화원\" : 0}]\n",
    "yeongdeungpo = [{\"문화회관\" : 0}, {\"도서관\" : 0}, {\"박물관\" : 0}, {\"기타\" : 0}, {\"공원장\" : 0}, {\"미술관\" : 0}, {\"문화원\" : 0}]\n",
    "yongsan = [{\"문화회관\" : 0}, {\"도서관\" : 0}, {\"박물관\" : 0}, {\"기타\" : 0}, {\"공원장\" : 0}, {\"미술관\" : 0}, {\"문화원\" : 0}]\n",
    "eunpyeong = [{\"문화회관\" : 0}, {\"도서관\" : 0}, {\"박물관\" : 0}, {\"기타\" : 0}, {\"공원장\" : 0}, {\"미술관\" : 0}, {\"문화원\" : 0}]\n",
    "jongno = [{\"문화회관\" : 0}, {\"도서관\" : 0}, {\"박물관\" : 0}, {\"기타\" : 0}, {\"공원장\" : 0}, {\"미술관\" : 0}, {\"문화원\" : 0}]\n",
    "jung = [{\"문화회관\" : 0}, {\"도서관\" : 0}, {\"박물관\" : 0}, {\"기타\" : 0}, {\"공원장\" : 0}, {\"미술관\" : 0}, {\"문화원\" : 0}]\n",
    "jungnang = [{\"문화회관\" : 0}, {\"도서관\" : 0}, {\"박물관\" : 0}, {\"기타\" : 0}, {\"공원장\" : 0}, {\"미술관\" : 0}, {\"문화원\" : 0}]\n",
    "cultures = [\"문화회관\", \"도서관\", \"박물관\",\"기타\" ,\"공원장\" ,\"미술관\", \"문화원\"]\n",
    "\n",
    "print(gangdong[1]['도서관'])"
   ]
  },
  {
   "cell_type": "code",
   "execution_count": null,
   "metadata": {},
   "outputs": [],
   "source": [
    "import pandas as pd\n",
    "df = pd.read_csv('filtered_data_강남.csv',encoding='cp949')\n",
    "\n",
    "subject_title_list = df.iloc[, 1]\n",
    "print(subject_title_list)"
   ]
  },
  {
   "cell_type": "code",
   "execution_count": 6,
   "metadata": {},
   "outputs": [
    {
     "ename": "FileNotFoundError",
     "evalue": "[Errno 2] No such file or directory: 'filtered_data_gangnam.xlsx'",
     "output_type": "error",
     "traceback": [
      "\u001b[1;31m---------------------------------------------------------------------------\u001b[0m",
      "\u001b[1;31mFileNotFoundError\u001b[0m                         Traceback (most recent call last)",
      "Cell \u001b[1;32mIn[6], line 3\u001b[0m\n\u001b[0;32m      1\u001b[0m \u001b[38;5;28;01mimport\u001b[39;00m \u001b[38;5;21;01mpandas\u001b[39;00m \u001b[38;5;28;01mas\u001b[39;00m \u001b[38;5;21;01mpd\u001b[39;00m\n\u001b[0;32m      2\u001b[0m \u001b[38;5;28;01mimport\u001b[39;00m \u001b[38;5;21;01mcsv\u001b[39;00m\n\u001b[1;32m----> 3\u001b[0m \u001b[38;5;28;01mwith\u001b[39;00m \u001b[38;5;28;43mopen\u001b[39;49m\u001b[43m(\u001b[49m\u001b[38;5;124;43m'\u001b[39;49m\u001b[38;5;124;43mfiltered_data_gangnam.xlsx\u001b[39;49m\u001b[38;5;124;43m'\u001b[39;49m\u001b[43m,\u001b[49m\u001b[43m \u001b[49m\u001b[38;5;124;43m'\u001b[39;49m\u001b[38;5;124;43mr\u001b[39;49m\u001b[38;5;124;43m'\u001b[39;49m\u001b[43m)\u001b[49m \u001b[38;5;28;01mas\u001b[39;00m f:\n\u001b[0;32m      4\u001b[0m     data \u001b[38;5;241m=\u001b[39m excel\u001b[38;5;241m.\u001b[39mreader(f)\n\u001b[0;32m      5\u001b[0m     \u001b[38;5;28;01mfor\u001b[39;00m row \u001b[38;5;129;01min\u001b[39;00m data : \n",
      "File \u001b[1;32m~\\AppData\\Roaming\\Python\\Python312\\site-packages\\IPython\\core\\interactiveshell.py:324\u001b[0m, in \u001b[0;36m_modified_open\u001b[1;34m(file, *args, **kwargs)\u001b[0m\n\u001b[0;32m    317\u001b[0m \u001b[38;5;28;01mif\u001b[39;00m file \u001b[38;5;129;01min\u001b[39;00m {\u001b[38;5;241m0\u001b[39m, \u001b[38;5;241m1\u001b[39m, \u001b[38;5;241m2\u001b[39m}:\n\u001b[0;32m    318\u001b[0m     \u001b[38;5;28;01mraise\u001b[39;00m \u001b[38;5;167;01mValueError\u001b[39;00m(\n\u001b[0;32m    319\u001b[0m         \u001b[38;5;124mf\u001b[39m\u001b[38;5;124m\"\u001b[39m\u001b[38;5;124mIPython won\u001b[39m\u001b[38;5;124m'\u001b[39m\u001b[38;5;124mt let you open fd=\u001b[39m\u001b[38;5;132;01m{\u001b[39;00mfile\u001b[38;5;132;01m}\u001b[39;00m\u001b[38;5;124m by default \u001b[39m\u001b[38;5;124m\"\u001b[39m\n\u001b[0;32m    320\u001b[0m         \u001b[38;5;124m\"\u001b[39m\u001b[38;5;124mas it is likely to crash IPython. If you know what you are doing, \u001b[39m\u001b[38;5;124m\"\u001b[39m\n\u001b[0;32m    321\u001b[0m         \u001b[38;5;124m\"\u001b[39m\u001b[38;5;124myou can use builtins\u001b[39m\u001b[38;5;124m'\u001b[39m\u001b[38;5;124m open.\u001b[39m\u001b[38;5;124m\"\u001b[39m\n\u001b[0;32m    322\u001b[0m     )\n\u001b[1;32m--> 324\u001b[0m \u001b[38;5;28;01mreturn\u001b[39;00m \u001b[43mio_open\u001b[49m\u001b[43m(\u001b[49m\u001b[43mfile\u001b[49m\u001b[43m,\u001b[49m\u001b[43m \u001b[49m\u001b[38;5;241;43m*\u001b[39;49m\u001b[43margs\u001b[49m\u001b[43m,\u001b[49m\u001b[43m \u001b[49m\u001b[38;5;241;43m*\u001b[39;49m\u001b[38;5;241;43m*\u001b[39;49m\u001b[43mkwargs\u001b[49m\u001b[43m)\u001b[49m\n",
      "\u001b[1;31mFileNotFoundError\u001b[0m: [Errno 2] No such file or directory: 'filtered_data_gangnam.xlsx'"
     ]
    }
   ],
   "source": [
    "import pandas as pd\n",
    "import csv\n",
    "with open('filtered_data_강남.xlsx', 'r') as f:\n",
    "    data = excel.reader(f)\n",
    "    for row in data : \n",
    "        if row[1] == '문화회관':\n",
    "            gangnam[0]['문화회관'] = gangnam[0]['문화회관'] + 1\n",
    "\n",
    "print(gangnam[0]['문화회관'])\n"
   ]
  },
  {
   "cell_type": "code",
   "execution_count": null,
   "metadata": {},
   "outputs": [],
   "source": [
    "df = pd.read_excel('filtered_data_gangnam.xlsx')"
   ]
  }
 ],
 "metadata": {
  "kernelspec": {
   "display_name": "Python 3",
   "language": "python",
   "name": "python3"
  },
  "language_info": {
   "codemirror_mode": {
    "name": "ipython",
    "version": 3
   },
   "file_extension": ".py",
   "mimetype": "text/x-python",
   "name": "python",
   "nbconvert_exporter": "python",
   "pygments_lexer": "ipython3",
   "version": "3.12.4"
  }
 },
 "nbformat": 4,
 "nbformat_minor": 2
}
