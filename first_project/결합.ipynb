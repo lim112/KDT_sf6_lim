{
 "cells": [
  {
   "cell_type": "code",
   "execution_count": 35,
   "metadata": {},
   "outputs": [
    {
     "name": "stdout",
     "output_type": "stream",
     "text": [
      "   Unnamed: 0       중랑구       강동구       강북구       강서구     관악구       광진구  \\\n",
      "0         전시회       1.0       0.0       0.0       0.0       0       0.0   \n",
      "1         박물관      10.0       4.0       4.0       4.0       4       4.0   \n",
      "2  음악 및 무용발표회       6.0       0.0       0.0       0.0       1       1.0   \n",
      "3      전통예술공연       4.0       0.0       0.0       0.0       0       1.0   \n",
      "4        연극공연      26.0       0.0       0.0       0.0       0       0.0   \n",
      "5        영화관람     637.0       9.0      21.0      35.0      43      69.0   \n",
      "6        대중공연      42.0       1.0       2.0       2.0       5       6.0   \n",
      "7        운동경기       2.0       0.0       1.0       1.0       1       1.0   \n",
      "8          인구  188664.0  205956.0  143075.0  274010.0  286338  170469.0   \n",
      "9         NaN       NaN       NaN       NaN       NaN       2       NaN   \n",
      "\n",
      "        구로구       금천구       노원구  ...       성동구     송파구       양천구      영등포구  \\\n",
      "0       0.0       0.0       0.0  ...       1.0       1       1.0       1.0   \n",
      "1       4.0       4.0       4.0  ...       5.0       8       8.0       8.0   \n",
      "2       4.0       4.0       4.0  ...       4.0       4       4.0       4.0   \n",
      "3       1.0       1.0       1.0  ...       1.0       1       1.0       1.0   \n",
      "4       2.0       2.0       3.0  ...       8.0       9       9.0       9.0   \n",
      "5      86.0     101.0     122.0  ...     328.0     368     387.0     408.0   \n",
      "6       9.0       9.0       9.0  ...      16.0      19      19.0      19.0   \n",
      "7       1.0       1.0       1.0  ...       1.0       1       1.0       1.0   \n",
      "8  184097.0  121223.0  218369.0  ...  133233.0  287380  180679.0  192064.0   \n",
      "9       NaN       NaN       NaN  ...       NaN       1       NaN       NaN   \n",
      "\n",
      "        용산구       은평구      종로구        강남        성북       중구  \n",
      "0       1.0       1.0      1.0       0.0       0.0      0.0  \n",
      "1       8.0       8.0      9.0       1.0       0.0      2.0  \n",
      "2       4.0       4.0      5.0       NaN       0.0      0.0  \n",
      "3       1.0       1.0      4.0       NaN       1.0      0.0  \n",
      "4      15.0      15.0     25.0       2.0       1.0      3.0  \n",
      "5     453.0     476.0    627.0      73.0      31.0     57.0  \n",
      "6      21.0      21.0     42.0       1.0       2.0      1.0  \n",
      "7       1.0       1.0      2.0       2.0       1.0      0.0  \n",
      "8  104187.0  216345.0  72394.0  245046.0  197371.0  65273.0  \n",
      "9       NaN       NaN      NaN       NaN       NaN      NaN  \n",
      "\n",
      "[10 rows x 26 columns]\n"
     ]
    }
   ],
   "source": [
    "import csv\n",
    "import pandas as pd\n",
    "\n",
    "data = pd.read_excel('count_data_total.xlsx')\n",
    "data_1 = pd.DataFrame(data)\n",
    "print(data_1)\n",
    "\n",
    "addresses = ['중랑구','강남구','강동구','강북구','강서구','관악구','광진구','구로구','금천구','노원구','도봉구',\n",
    "             '동대문구','동작구','마포구','서대문구','서초구','성동구','송파구','양천구','영등포구','용산구','은평구','종로구', '중구', '성북구']\n",
    "cultures_dic = {\"전시회\": [], \"음악 및 무용발표회\": [], \"박물관\": [], \"전통예술공연\": [], \"연극공연\": [],\"대중공연\": [], \"문화원\": [],'운동경기': []}\n",
    "cultures_list = [\"전시회\", \"음악 및 무용발표회\", \"박물관\", \"전통예술공연\", \"연극공연\",\"대중공연\", \"문화원\",'운동경기']"
   ]
  },
  {
   "cell_type": "code",
   "execution_count": 88,
   "metadata": {},
   "outputs": [
    {
     "name": "stdout",
     "output_type": "stream",
     "text": [
      "184097.0\n",
      "0.16\n"
     ]
    }
   ],
   "source": [
    "import pandas as pd\n",
    "data_lim = pd.read_excel('count_data_total.xlsx')\n",
    "data_kim = pd.read_excel('culture_b.xlsx')\n",
    "# 'Unnamed: 0' 열을 인덱스로 설정\n",
    "# data_lim.set_index('분류', inplace=True)\n",
    "\n",
    "# print(data_lim.loc['인구','구로구'])\n",
    "\n",
    "# # '소분류' 열을 인덱스로 설정\n",
    "data_kim.set_index('소분류', inplace=True)\n",
    "\n",
    "# # 인덱스가 '박물관'이고, 열이 '구로구'인 데이터를 출력\n",
    "print(data_kim.loc['구로구', '박물관'])\n",
    "\n"
   ]
  },
  {
   "cell_type": "code",
   "execution_count": 71,
   "metadata": {},
   "outputs": [
    {
     "name": "stdout",
     "output_type": "stream",
     "text": [
      "Index(['중랑구', '강동구', '강북구', '강서구', '관악구', '광진구', '구로구', '금천구', '노원구', '도봉구',\n",
      "       '동대문구', '동작구', '마포구', '서대문구', '서초구', '성동구', '송파구', '양천구', '영등포구', '용산구',\n",
      "       '은평구', '종로구', '강남', '성북', '중구'],\n",
      "      dtype='object')\n"
     ]
    }
   ],
   "source": [
    "import pandas as pd\n",
    "\n",
    "addresses = ['강남','강동구', '강북구', '강서구', '관악구', '광진구', '구로구', '금천구', '노원구', '도봉구',\n",
    "       '동대문구', '동작구', '마포구', '서대문구', '서초구', '성동구', '성북', '송파구', '양천구', '영등포구', '용산구',\n",
    "       '은평구', '종로구', '중구','중랑구']\n",
    "\n",
    "cultures_dic = {\n",
    "    \"전시회\": [], \"음악 및 무용발표회\": [], \"박물관\": [], \"전통예술공연\": [],\n",
    "    \"연극공연\": [], \"대중공연\": [], \"문화원\": [], '운동경기': []\n",
    "}\n",
    "\n",
    "cultures_list = [\"전시회\", \"음악 및 무용발표회\", \"박물관\", \"전통예술공연\", \"연극공연\", \"대중공연\", \"문화원\", '운동경기']\n",
    "\n",
    "# 데이터 불러오기\n",
    "data_lim = pd.read_excel('count_data_total.xlsx')\n",
    "data_kim = pd.read_excel('culture_b.xlsx')\n",
    "\n",
    "data_lim.set_index('분류', inplace=True)\n",
    "data_kim.set_index('소분류', inplace=True)\n",
    "\n",
    "for culture in cultures_list:\n",
    "    for address in addresses:\n",
    "        # 구 이름을 기반으로 인구, 문화소비율, 문화 시설 수 데이터를 가져옴\n",
    "        population = data_lim.loc['인구', address]  # 인구 데이터 추출\n",
    "        culture_participation = data_kim.loc[culture, address]  # 문화 소비 비율 데이터 추출\n",
    "        culture_count = data_lim.loc[culture, address]  # 문화 시설 수 데이터 추출\n",
    "\n",
    "#         # 곱셈 수행\n",
    "#         multiple = population * culture_participation * culture_count\n",
    "        \n",
    "#         # 결과 저장\n",
    "#         cultures_dic[culture].append(multiple)\n",
    "\n",
    "# # 결과 출력 (예시)\n",
    "# print(cultures_dic)\n",
    "print(data_lim.columns)"
   ]
  },
  {
   "cell_type": "code",
   "execution_count": null,
   "metadata": {},
   "outputs": [],
   "source": []
  },
  {
   "cell_type": "code",
   "execution_count": 1,
   "metadata": {},
   "outputs": [
    {
     "name": "stdout",
     "output_type": "stream",
     "text": [
      "CSV 파일로 저장되었습니다.\n"
     ]
    },
    {
     "name": "stderr",
     "output_type": "stream",
     "text": [
      "C:\\Users\\vvv\\AppData\\Local\\Temp\\ipykernel_204\\3597855737.py:35: RuntimeWarning: divide by zero encountered in scalar divide\n",
      "  multiple = population * culture_participation / culture_count\n"
     ]
    }
   ],
   "source": [
    "import pandas as pd\n",
    "\n",
    "# 데이터 불러오기\n",
    "data_lim = pd.read_excel('count_data_total.xlsx')\n",
    "data_kim = pd.read_excel('culture_b.xlsx')\n",
    "\n",
    "# 인덱스와 열 이름 설정\n",
    "data_lim.set_index('분류', inplace=True)\n",
    "data_kim.set_index('소분류', inplace=True)\n",
    "\n",
    "# 주소 목록 확인\n",
    "addresses = ['강남구', '강동구', '강북구', '강서구', '관악구', '광진구', '구로구', '금천구', '노원구', '도봉구',\n",
    "             '동대문구', '동작구', '마포구', '서대문구', '서초구', '성동구', '성북구', '송파구', '양천구', '영등포구', '용산구',\n",
    "             '은평구', '종로구', '중구', '중랑구']\n",
    "\n",
    "# 결과를 저장할 딕셔너리 초기화\n",
    "cultures_list = [\"전시회\", \"음악 및 무용발표회\", \"박물관\", \"전통예술공연\", \"연극공연\", \"영화관람\", \"대중공연\", '운동경기']\n",
    "                # 미술관, # 문화원              # 박물관   # 일반 공연     # 소공연장         # 대규모 공연                      \n",
    "cultures_dic = {culture: [0] * len(addresses) for culture in cultures_list}\n",
    "\n",
    "for culture in cultures_list:\n",
    "    for idx, address in enumerate(addresses):\n",
    "        try:\n",
    "            # 구 이름을 기반으로 인구 데이터와 문화 소비 비율 데이터 가져오기\n",
    "            population = data_lim.loc['인구', address]  # 인구 데이터 추출\n",
    "            culture_participation = data_kim.loc[address, culture] if address in data_kim.index and culture in data_kim.columns else 0  # 문화 소비 비율 데이터 추출\n",
    "            culture_count = data_lim.loc[culture, address] if culture in data_lim.index else 0  # 문화 시설 수 데이터 추출\n",
    "            \n",
    "            # 데이터 변환\n",
    "            population = pd.to_numeric(population, errors='coerce')  # 숫자로 변환\n",
    "            culture_participation = pd.to_numeric(culture_participation, errors='coerce')  # 숫자로 변환\n",
    "            culture_count = pd.to_numeric(culture_count, errors='coerce')  # 숫자로 변환\n",
    "            \n",
    "            # 곱셈 수행\n",
    "            if pd.notna(population) and pd.notna(culture_participation) and pd.notna(culture_count):\n",
    "                multiple = population * culture_participation / culture_count\n",
    "            else:\n",
    "                multiple = 0  # NaN 값이 있는 경우 0으로 설정\n",
    "            \n",
    "            # 결과 저장\n",
    "            cultures_dic[culture][idx] = multiple\n",
    "        except KeyError as e:\n",
    "            print(f\"KeyError 발생: {e} - 주소: {address}, 문화 유형: {culture}\")\n",
    "\n",
    "# 결과를 DataFrame으로 변환\n",
    "cultures_df = pd.DataFrame(cultures_dic, index=addresses)  # 인덱스 설정\n",
    "\n",
    "# 결과를 CSV 파일로 저장\n",
    "cultures_df.to_csv('multiple_division.csv', index=True)\n",
    "\n",
    "print(\"CSV 파일로 저장되었습니다.\")\n"
   ]
  },
  {
   "cell_type": "code",
   "execution_count": 93,
   "metadata": {},
   "outputs": [
    {
     "name": "stdout",
     "output_type": "stream",
     "text": [
      "   Unnamed: 0       전시회  음악 및 무용발표회         박물관    전통예술공연       연극공연  \\\n",
      "0         강남구      0.00        0.00    49009.20      0.00  151928.52   \n",
      "1         강동구      0.00        0.00   156526.56      0.00       0.00   \n",
      "2         강북구      0.00        0.00    22892.00      0.00       0.00   \n",
      "3         강서구      0.00        0.00    87683.20      0.00       0.00   \n",
      "4         관악구      0.00     2863.38    91628.16      0.00       0.00   \n",
      "5         광진구      0.00     8523.45    95462.64   3409.38       0.00   \n",
      "6         구로구      0.00    44183.28   117822.08  12886.79   58911.04   \n",
      "7         금천구      0.00    14546.76    19395.68   1212.23   29093.52   \n",
      "8         노원구      0.00    26204.28    26204.28  13102.14   98266.05   \n",
      "9         도봉구      0.00        0.00    16661.88      0.00   33323.76   \n",
      "10       동대문구  33041.57    27824.48    55648.96   6956.12  118254.04   \n",
      "11        동작구  16889.58    15012.96   105090.72   1876.62  105090.72   \n",
      "12        마포구  19981.61    79926.44   152586.84  12715.57  239779.32   \n",
      "13       서대문구  13258.08    11784.96    41247.36   4419.36  175301.28   \n",
      "14        서초구  10227.84    34092.80   102278.40   8523.20  490936.32   \n",
      "15        성동구   6661.65    58622.52    86601.45  13323.30  383711.04   \n",
      "16        성북구      0.00        0.00        0.00   5921.13   25658.23   \n",
      "17        송파구  40233.20    57476.00   597750.40  11495.20  646605.00   \n",
      "18        양천구  56010.49   137316.04  1517703.60  28908.64  487833.30   \n",
      "19       영등포구  44174.72   107555.84   261207.04   7682.56  449429.76   \n",
      "20        용산구  17711.79     8334.96   158364.24   4167.48  171908.55   \n",
      "21        은평구  17307.60    43269.00   103845.60   4326.90  746390.25   \n",
      "22        종로구   6515.46    28957.60    71670.06   5791.52  542955.00   \n",
      "23         중구      0.00        0.00    22192.82      0.00   19581.90   \n",
      "24        중랑구  24526.32    45279.36   226396.80  15093.12  637684.32   \n",
      "\n",
      "            영화관람       대중공연       운동경기  \n",
      "0   3.005244e+07   75964.26  156829.44  \n",
      "1   3.151127e+06   28833.84       0.00  \n",
      "2   4.056176e+06   22892.00   17169.00  \n",
      "3   8.535412e+06   21920.80   38361.40  \n",
      "4   1.095816e+07  114535.20   42950.70  \n",
      "5   1.976077e+07  102281.40   34093.80  \n",
      "6   1.979043e+07  149118.57   46024.25  \n",
      "7   1.126404e+07   32730.21    6061.15  \n",
      "8   3.729743e+07  314451.36   56775.94  \n",
      "9   3.583693e+07   27769.80    2776.98  \n",
      "10  4.085155e+07  271288.68   29563.51  \n",
      "11  6.846097e+07  288999.48   26272.68  \n",
      "12  7.537790e+07  377834.08   49045.77  \n",
      "13  5.963190e+07  306408.96   20623.68  \n",
      "14  8.728950e+07  354565.12   18751.04  \n",
      "15  9.657794e+07  149220.96   25314.27  \n",
      "16  1.015671e+07   59211.30   15789.68  \n",
      "17  1.840152e+08  655226.40   17242.80  \n",
      "18  1.419432e+08  720909.21   34329.01  \n",
      "19  1.285139e+08  656858.88   59539.84  \n",
      "20  6.465949e+07  153154.89   26046.75  \n",
      "21  1.575597e+08  363459.60   47595.90  \n",
      "22  1.180167e+08   60810.96    2895.76  \n",
      "23  5.208785e+06    1958.19       0.00  \n",
      "24  1.802685e+08  792388.80   45279.36  \n"
     ]
    }
   ],
   "source": [
    "rating = pd.read_csv('multiple.csv')\n",
    "print(rating)"
   ]
  },
  {
   "cell_type": "code",
   "execution_count": 2,
   "metadata": {},
   "outputs": [
    {
     "name": "stdout",
     "output_type": "stream",
     "text": [
      "구: 종로구, 카테고리: 대중공연, 값: 34.473333333333336\n"
     ]
    }
   ],
   "source": [
    "import pandas as pd\n",
    "\n",
    "# CSV 파일에서 DataFrame 불러오기\n",
    "cultures_df = pd.read_csv('multiple_division.csv', index_col=0)\n",
    "\n",
    "# 0을 제외한 값들만 필터링\n",
    "non_zero_df = cultures_df[cultures_df != 0]\n",
    "\n",
    "# 가장 작은 값을 가진 셀 찾기\n",
    "min_value = non_zero_df.min().min()  # 가장 작은 값\n",
    "min_location = non_zero_df[non_zero_df == min_value]  # 가장 작은 값을 가진 셀\n",
    "\n",
    "# 결과 출력\n",
    "for category in min_location.columns:\n",
    "    for address in min_location.index:\n",
    "        if min_location.loc[address, category] == min_value:\n",
    "            print(f\"구: {address}, 카테고리: {category}, 값: {min_value}\")\n"
   ]
  }
 ],
 "metadata": {
  "kernelspec": {
   "display_name": "Python 3",
   "language": "python",
   "name": "python3"
  },
  "language_info": {
   "codemirror_mode": {
    "name": "ipython",
    "version": 3
   },
   "file_extension": ".py",
   "mimetype": "text/x-python",
   "name": "python",
   "nbconvert_exporter": "python",
   "pygments_lexer": "ipython3",
   "version": "3.12.4"
  }
 },
 "nbformat": 4,
 "nbformat_minor": 2
}
